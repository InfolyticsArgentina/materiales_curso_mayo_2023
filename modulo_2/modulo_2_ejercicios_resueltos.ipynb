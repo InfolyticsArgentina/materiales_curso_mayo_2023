{
 "cells": [
  {
   "cell_type": "markdown",
   "id": "04dbaad8",
   "metadata": {},
   "source": [
    "# Ejercicios del Módulo 2\n",
    "\n",
    "estructuras de control y funciones"
   ]
  },
  {
   "cell_type": "markdown",
   "id": "a2122f11",
   "metadata": {},
   "source": [
    "### Ejercicio 1:\n",
    "\n",
    "Una formacion se considera shale cuando su permeabilidad es menor a 0.001 md. Se considera tight cuando su permeabilidad es menor a 0.1 md. Si la permeabilidad esta por sobre estos valores, la formacion es convencional.\n",
    "\n",
    "En el siguiente diccionario se muestran nombres de pozos y sus permeabilidades correspondientes. Para cada pozo, imprimir True si es shale y False si no lo es con el siguiente formato de mensaje:​\n",
    "\n",
    "\"El pozo XXX con permeabilidad XXX es shale: True/False\""
   ]
  },
  {
   "cell_type": "code",
   "execution_count": 30,
   "id": "b709955d",
   "metadata": {},
   "outputs": [
    {
     "name": "stdout",
     "output_type": "stream",
     "text": [
      "El pozo LLX-107 con permeabilidad 0.00057 es shale: True\n",
      "El pozo JSB-23 con permeabilidad 0.2 es shale: False\n",
      "El pozo MMR-8 con permeabilidad 0.00086 es shale: True\n",
      "El pozo ALB-128 con permeabilidad 0.98 es shale: False\n",
      "El pozo MGR-1 con permeabilidad 0.4 es shale: False\n"
     ]
    }
   ],
   "source": [
    "#Ejercicio 1\n",
    "\n",
    "shale = 0.001\n",
    "\n",
    "permeabilidades = {\n",
    "    \"LLX-107\": 0.00057,\n",
    "    \"JSB-23\": 0.2,\n",
    "    \"MMR-8\": 0.00086,\n",
    "    \"ALB-128\": 0.98,\n",
    "    \"MGR-1\": 0.4\n",
    "}\n",
    "\n",
    "#Imprimir comparacion con clave y valor: el pozo xx con permeabilidad xx es xx\n",
    "print(\"El pozo LLX-107 con permeabilidad \" + str(permeabilidades.get(\"LLX-107\")) + \" es shale: \" + str(permeabilidades.get(\"LLX-107\") < shale))\n",
    "print(\"El pozo JSB-23 con permeabilidad \" + str(permeabilidades.get(\"JSB-23\")) + \" es shale: \" + str(permeabilidades.get(\"JSB-23\") < shale))\n",
    "print(\"El pozo MMR-8 con permeabilidad \" + str(permeabilidades.get(\"MMR-8\")) + \" es shale: \" + str(permeabilidades.get(\"MMR-8\") < shale))\n",
    "print(\"El pozo ALB-128 con permeabilidad \" + str(permeabilidades.get(\"ALB-128\")) + \" es shale: \" + str(permeabilidades.get(\"ALB-128\") < shale))\n",
    "print(\"El pozo MGR-1 con permeabilidad \" + str(permeabilidades.get(\"MGR-1\")) + \" es shale: \" + str(permeabilidades.get(\"MGR-1\") < shale))"
   ]
  },
  {
   "cell_type": "markdown",
   "id": "78a0f36c",
   "metadata": {},
   "source": [
    "### Ejercicio 2:\n",
    "\n",
    "Definir si el siguiente pozo pertenece al area 'JB' utilizando la funcion find(). Luego realizar un split con el caracter \".\""
   ]
  },
  {
   "cell_type": "code",
   "execution_count": 31,
   "id": "ddd90caa",
   "metadata": {},
   "outputs": [
    {
     "name": "stdout",
     "output_type": "stream",
     "text": [
      "7\n",
      "['YPF', 'Jj', 'JB', 'x-7']\n"
     ]
    }
   ],
   "source": [
    "#Ejercicio 2\n",
    "\n",
    "sigla = \"YPF.Jj.JB.x-7\"\n",
    "print(sigla.find(\"JB\"))\n",
    "print(sigla.split(\".\"))"
   ]
  },
  {
   "cell_type": "markdown",
   "id": "16bb82b3",
   "metadata": {},
   "source": [
    "### Ejercicio 3:​\n",
    "\n",
    "Una formacion se considera shale cuando su permeabilidad es menor a 0.001 md. Se considera tight cuando su permeabilidad es menor a 0.1 md. Si la permeabilidad esta por sobre estos valores, la formacion es convencional.​\n",
    "\n",
    "En el siguiente diccionario se muestran nombres de pozos y sus permeabilidades correspondientes. Para cada pozo, imprimir si es shale, tight o convencional."
   ]
  },
  {
   "cell_type": "code",
   "execution_count": 32,
   "id": "f985f23a",
   "metadata": {},
   "outputs": [
    {
     "name": "stdout",
     "output_type": "stream",
     "text": [
      "El pozo es shale\n"
     ]
    }
   ],
   "source": [
    "#Ejercicio 3\n",
    "\n",
    "shale = 0.001\n",
    "tight = 0.1\n",
    "\n",
    "permeabilidades = {\n",
    "    \"LLX-107\": 0.00057,\n",
    "    \"JSB-23\": 0.2,\n",
    "    \"MMR-8\": 0.00086,\n",
    "    \"ALB-128\": 0.98,\n",
    "    \"MGR-1\": 0.4\n",
    "}\n",
    "\n",
    "if permeabilidades.get(\"LLX-107\") < shale:\n",
    "    print(\"El pozo es shale\")\n",
    "elif permeabilidades.get(\"LLX-107\") < tight:\n",
    "    print(\"El pozo es tight\")\n",
    "else:\n",
    "    print(\"La formacion es convencional\")"
   ]
  },
  {
   "cell_type": "markdown",
   "id": "b8a0cdc9",
   "metadata": {},
   "source": [
    "### Ejercicio 4\n",
    "\n",
    "#### Gravedad API\n",
    "La gravedad API es una medida de cuan pesado o ligero es un petróleo crudo respecto al agua. Esta relacionada inversamente con la densidad relativa. Si la gravedad API es mayor que 10, el petróleo es ligero y flota en el agua. Si es menor a 10, se hunde por su densidad. Usando la gravedad API como criterio de clasificación se pueden dividir los crudos de la siguiente forma:​\n",
    "\n",
    "​\n",
    "\n",
    "* Ligeros: con gAPI mayor a 31.1º​\n",
    "\n",
    "* Medios: con valores entre 22.3 y 31.1º​\n",
    "\n",
    "* Pesados: por debajo de 22.3º​\n",
    "\n",
    "* Extra pesados: por debajo de 10º​\n",
    "\n",
    "​\n",
    "\n",
    "Escriba una expresion usando if-else o if-elif-else para clasificar un crudo usando su gravedad API. ​\n",
    "\n",
    "     Guardar la gravedad API del petroleo en una variable llamada gAPI. ​\n",
    "\n",
    "     Guardar en una variable llamada tipCrudo el string ligero/medio/pesado/extra pesado segun corresponda.​\n",
    "\n",
    "​\n",
    "\n",
    "Para un segunda expresion, suponga que existe una clase llamada Condensados: entre 45 y 75 º, complemente o reescriba la expresión anterior para acomodar esta nueva clase. Ademas incluya opciones para valores por encima de 75 y por debajo de 0, dando algun mensaje claro de que se trata de un error."
   ]
  },
  {
   "cell_type": "code",
   "execution_count": 33,
   "id": "9a598b69",
   "metadata": {},
   "outputs": [
    {
     "name": "stdout",
     "output_type": "stream",
     "text": [
      "Error en gAPI\n"
     ]
    }
   ],
   "source": [
    "gAPI=0.0\n",
    "\n",
    "if gAPI<= 10.0:\n",
    "    crudo='extra pesado'\n",
    "elif gAPI<=22.3:\n",
    "    crudo='pesado'\n",
    "elif gAPI<=31.1:\n",
    "    crudo='medio'\n",
    "else:\n",
    "    crudo='ligero'\n",
    "    \n",
    "\n",
    "if gAPI<= 10.0:\n",
    "    crudo='extra pesado'\n",
    "elif gAPI>10.0 and gAPI<=22.3:\n",
    "    crudo='pesado'\n",
    "elif gAPI>22.3 and gAPI<=31.1:\n",
    "    crudo='medio'\n",
    "else:\n",
    "    crudo='ligero'\n",
    "\n",
    "#opción más completa:\n",
    "\n",
    "if gAPI>75.0 or  gAPI<=0:\n",
    "    print('Error en gAPI')\n",
    "else:\n",
    "    if gAPI<= 10.0:\n",
    "        crudo='extra pesado'\n",
    "    elif gAPI>10.0 and gAPI<=22.3:\n",
    "        crudo='pesado'\n",
    "    elif gAPI>22.3 and gAPI<=31.1:\n",
    "        crudo='medio'\n",
    "    elif gAPI>31.1 and gAPI<=45.0:\n",
    "        crudo='ligero'\n",
    "    else:\n",
    "        crudo='condensado'\n",
    "    print(\"El crudo de {} de gAPI se considera {}\".format(str(gAPI),crudo))"
   ]
  },
  {
   "cell_type": "markdown",
   "id": "e1c88521",
   "metadata": {},
   "source": [
    "### Ejercicio 5\n",
    "\n",
    "#### Ejercicio con análisis PVT\n",
    "\n",
    "\n",
    "\n",
    "Supongamos que tenemos un análisis de PV *ficticio, T, muy esquemático, bastante simplificado,* como el que se ve en la figura:\n",
    "\n",
    "<div>\n",
    "<img src=\"../images/ejercicio_pvt.png\" width=\"500\"/>\n",
    "</div>\n",
    "\n",
    "\n",
    "\n",
    "La ecuación de la parábola que describe la curva azul es la siguiente\n",
    "\n",
    "\n",
    "$${𝑦=𝑎𝑥^2+𝑏𝑥+𝑐}$$\n",
    "\n",
    "donde x es la temperatura en ºC, y la presión en bares y los coeficientes:\n",
    "\n",
    "$${a=-0.00165}$$\n",
    "$${b=0.65789}$$\n",
    "$${c=184.21053}$$\n",
    "\n",
    "El punto máximo o punto crítico es igual a 200ºC y 250 bar.\n",
    "\n",
    "Construir una expresión if-else para que clasifique en 3 posibles estados un punto de presión-temperatura cualquiera.\n",
    "Se puede usar por ejemplo una variable llamada estado, que sea un string.\n",
    "Para los puntos se sugiere usar el formato P={'temp':100,'pres':200} , es decir un diccionario. Tambien puede servir una tupla (100,200).\n",
    "¿Qué ventaja tiene el diccionario?\n",
    "\n",
    "Después probar con estos puntos:\n",
    "* p1={'temp':200,'pres':180}\n",
    "* p2={'temp':400,'pres':220}\n",
    "* p3={'temp':50,'pres':200}\n",
    "\n",
    "\n",
    "Si queremos dejar por fuera condiciones de temperatura irreales por lo extremas, podemos modificar la expresión anterior para que descarte esos valores.\n",
    "Modificar la expresión anterior para que, ante un valor extremo de temperatura y presión escriba 'Error en dato de entrada'. Por ejemplo temperaturas menores a -273 ºC y presiones demasiado altas (supongamos 1000 bar).\n",
    "Probar con este punto:\n",
    "\n",
    "P_error={'temp': -100,'pres':2000}"
   ]
  },
  {
   "cell_type": "code",
   "execution_count": 34,
   "id": "854445c3",
   "metadata": {},
   "outputs": [
    {
     "name": "stdout",
     "output_type": "stream",
     "text": [
      "presion 180 bar\n",
      "Temperartura 200 ºC\n",
      "Corresponde a Mezcla Gas Líquido\n",
      "Presion o Temperatura extrema\n",
      "\n",
      "\n",
      "Punto con error\n",
      "presion 2000 bar\n",
      "Temperartura -100 ºC\n",
      "Corresponde a Indefinido\n"
     ]
    }
   ],
   "source": [
    "estado=''\n",
    "#puntos de prueba\n",
    "p1={'temp':200,'pres':180}\n",
    "p2={'temp':400,'pres':220}\n",
    "p3={'temp':50,'pres':200}\n",
    "\n",
    "# parabola\n",
    "A=-0.00165\n",
    "B=0.65789\n",
    "C=184.21053\n",
    "P_critico={'temp':200,'pres':250}\n",
    "\n",
    "p=p1\n",
    "\n",
    "if p['pres']<A*(p['temp']**2)+B*p['temp']+C:\n",
    "    estado='Mezcla Gas Líquido'\n",
    "else:\n",
    "    if p['temp']>P_critico['temp']:\n",
    "        estado='gas'\n",
    "    else:\n",
    "        estado='líquido'\n",
    "\n",
    "print('presion {} bar'.format(p['pres']))\n",
    "print('Temperartura {} ºC'.format(p['temp']))\n",
    "print('Corresponde a {}'.format(estado))\n",
    "\n",
    "\n",
    "P_error={'temp': -100,'pres':2000}\n",
    "p=P_error\n",
    "if p['pres']>1000.0 or p['pres']<=0.0 or p['temp']<-273.0:\n",
    "    print('Presion o Temperatura extrema')\n",
    "    estado=\"Indefinido\"\n",
    "else:\n",
    "    if p['pres']<A*(p['temp']**2)+B*p['temp']+C:\n",
    "        estado='Mezcla Gas Líquido'\n",
    "    else:\n",
    "        if p['temp']>P_critico['temp']:\n",
    "            estado='gas'\n",
    "        else:\n",
    "            estado='líquido'\n",
    "\n",
    "print('\\n')\n",
    "print('Punto con error')\n",
    "print('presion {} bar'.format(p['pres']))\n",
    "print('Temperartura {} ºC'.format(p['temp']))\n",
    "print('Corresponde a {}'.format(estado))\n",
    "\n",
    "\n"
   ]
  },
  {
   "cell_type": "markdown",
   "id": "d88bdec2",
   "metadata": {},
   "source": [
    "### Ejercicio 6: ​\n",
    "\n",
    "Tenemos una lista de tuplas que contienen dos valores: la porosidad y el volumen de arcilla de distintas rocas. ​\n",
    "\n",
    "- Si la porosidad es mayor o igual a 0.25 y el volumen de arcilla es menor o igual a 0.15, la roca es de buena calidad​\n",
    "\n",
    "- Si la porosidad es mayor o igual a 0.08 y el volumen de arcilla es menor o igual a 0.4, la roca es de calidad regular.​\n",
    "\n",
    "- Si la porosidad es menor a 0.08 o el volumen de arcilla es mayor a 0.4, la roca es de mala calidad.​\n",
    "\n",
    "Clasificar cada una de las rocas segun los valores provistos."
   ]
  },
  {
   "cell_type": "code",
   "execution_count": 35,
   "id": "ec02439e",
   "metadata": {},
   "outputs": [
    {
     "name": "stdout",
     "output_type": "stream",
     "text": [
      "La roca es de buena calidad\n"
     ]
    }
   ],
   "source": [
    "#Ejercicio 6\n",
    "\n",
    "muestras_rocas = [(0.27, 0.12), (0.11, 0.19), (0.6, 0.6)]\n",
    "roca1 = muestras_rocas[0]\n",
    "roca2 = muestras_rocas[1]\n",
    "roca3 = muestras_rocas[2]\n",
    "porosidad_buena = 0.25\n",
    "porosidad_regular = 0.08\n",
    "arcilla_buena = 0.15\n",
    "arcilla_regular = 0.4\n",
    "\n",
    "if roca1[0] >= porosidad_buena and roca1[1] <= arcilla_buena:\n",
    "    print(\"La roca es de buena calidad\")\n",
    "elif roca1[0] >= porosidad_regular and roca1[1] <= arcilla_regular:\n",
    "    print(\"La roca es de calidad regular\")\n",
    "else:\n",
    "    print(\"La roca es de mala calidad\")"
   ]
  },
  {
   "cell_type": "markdown",
   "id": "7ce7b621",
   "metadata": {},
   "source": [
    "### Ejercicio 7\n",
    "\n",
    "Tenemos una lista de tuplas que contienen, en orden: id de pozo, produccion y mes de produccion. \n",
    "    \n",
    "El valor del mes de produccion corresponde con el numero de mes (1 = enero, 2 = febrero, etc.). \n",
    "\n",
    "Sumar la produccion de todos los pozos hasta marzo (no inclusive) e imprimir un mensaje con la suma de la produccion y la cantidad total de pozos analizados."
   ]
  },
  {
   "cell_type": "code",
   "execution_count": 36,
   "id": "008ceaae",
   "metadata": {},
   "outputs": [
    {
     "name": "stdout",
     "output_type": "stream",
     "text": [
      "Se sumaron 4 pozos\n",
      "La produccion hasta marzo es de 747.48\n"
     ]
    }
   ],
   "source": [
    "#Ejercicio 7\n",
    "\n",
    "producciones = [(\"34538\", 343.17, 1), (\"33901\", 156.55, 1), (\"33886\", 128.86, 2), \n",
    "                (\"34535\", 118.9, 2), (\"33378\", 10.08, 3), (\"33897\", 5.6, 3)]\n",
    "\n",
    "i = 0\n",
    "acum_prod = 0\n",
    "\n",
    "while i < len(producciones) and producciones[i][2] != 3:\n",
    "    acum_prod = acum_prod + producciones[i][1]\n",
    "    i = i + 1\n",
    "\n",
    "print(\"Se sumaron\",i,\"pozos\")\n",
    "print(\"La produccion hasta marzo es de\",acum_prod)"
   ]
  },
  {
   "cell_type": "markdown",
   "id": "2f8922e3",
   "metadata": {},
   "source": [
    "### Ejercicio 8:\n",
    "\n",
    "Tenemos una lista de pozos con los nombres mal cargados: donde dice \"LLX\" deberia decir \"LLL\". Modifique los nombres incorrectos."
   ]
  },
  {
   "cell_type": "code",
   "execution_count": 37,
   "id": "eab25b24",
   "metadata": {},
   "outputs": [
    {
     "name": "stdout",
     "output_type": "stream",
     "text": [
      "['YPF.Jj.LLL.x-1', 'YPF.Jj.LLL.x-3', 'YPF.Jj.LLL.x-5']\n"
     ]
    }
   ],
   "source": [
    "#Ejercicio 8\n",
    "\n",
    "pozos = [\"YPF.Jj.LLX.x-1\", \"YPF.Jj.LLX.x-3\", \"YPF.Jj.LLX.x-5\"]\n",
    "pozos = [pozo.replace(\"LLX\", \"LLL\") for pozo in pozos]\n",
    "\n",
    "print(pozos)"
   ]
  },
  {
   "cell_type": "markdown",
   "id": "19e29bcd",
   "metadata": {},
   "source": [
    "### Ejercicio 9:\n",
    "\n",
    "Tenemos un diccionario con distintos id de pozos. Cada pozo se corresponde con una lista que contiene su produccion de petroleo en un mes y la provincia a la que pertenece.​\n",
    "\n",
    "Imprima tres mensajes: uno que anuncie la suma de la produccion de todos los pozos de Neuquen, otro que diga la suma de la produccion de los pozos que no pertenecen a Neuquen, y otro con la suma de ambos."
   ]
  },
  {
   "cell_type": "code",
   "execution_count": 38,
   "id": "59e3595f",
   "metadata": {},
   "outputs": [
    {
     "name": "stdout",
     "output_type": "stream",
     "text": [
      "La produccion de petroleo en Neuquen fue de 270.11\n",
      "La produccion de petroleo en otras provincias fue de 501.82\n",
      "La produccion de petroleo total fue de 771.9300000000001\n"
     ]
    }
   ],
   "source": [
    "#Ejercicio 9\n",
    "\n",
    "pozos = {\n",
    "    \"41098\": [97.98, \"Neuquen\"],\n",
    "    \"8916\": [37.4, \"Neuquen\"],\n",
    "    \"160826\": [345.27, \"Rio Negro\"],\n",
    "    \"33901\": [156.55, \"Jujuy\"],\n",
    "    \"9331\": [134.73, \"Neuquen\"]\n",
    "}\n",
    "\n",
    "prod_nqn = 0\n",
    "prod_otros = 0\n",
    "\n",
    "for pozo in pozos.items():\n",
    "    if pozo[1][1] == \"Neuquen\":\n",
    "        prod_nqn += pozo[1][0]\n",
    "    else:\n",
    "        prod_otros += pozo[1][0]\n",
    "\n",
    "print(\"La produccion de petroleo en Neuquen fue de\",prod_nqn)\n",
    "print(\"La produccion de petroleo en otras provincias fue de\",prod_otros)\n",
    "print(\"La produccion de petroleo total fue de\",(prod_nqn+prod_otros))"
   ]
  },
  {
   "cell_type": "markdown",
   "id": "e2168475",
   "metadata": {},
   "source": [
    "### Ejercicio 10:\n",
    "\n",
    "Retomando el diccionario que implementamos en el ejercicio 8 del modulo 1, guardar la suma de toda la produccion en una variable e imprimirla."
   ]
  },
  {
   "cell_type": "code",
   "execution_count": 39,
   "id": "c9a9ad15",
   "metadata": {},
   "outputs": [
    {
     "name": "stdout",
     "output_type": "stream",
     "text": [
      "La produccion total es de: 14590.036\n"
     ]
    }
   ],
   "source": [
    "#Ejercicio 10\n",
    "\n",
    "diccionario_produccion = {\n",
    "    \"Jujuy\": {\n",
    "        \"33901\": 1151.5,\n",
    "        \"34538\": 343.17,\n",
    "        \"33886\": 157.17,\n",
    "        \"34535\": 123,\n",
    "        \"33907\": 68.145\n",
    "    },\n",
    "    \"Rio Negro\": {\n",
    "        \"160580\": 4435.67,\n",
    "        \"10156\": 2811,\n",
    "        \"160441\": 2171.471,\n",
    "        \"161429\": 1696.15,\n",
    "        \"161430\": 1632.76\n",
    "    }\n",
    "}\n",
    "\n",
    "prod_acum = 0\n",
    "\n",
    "for pozo in diccionario_produccion.values():\n",
    "    for produccion in pozo.values():\n",
    "        prod_acum += produccion\n",
    "        \n",
    "print(\"La produccion total es de:\",prod_acum)\n",
    "        "
   ]
  },
  {
   "cell_type": "markdown",
   "id": "ccb55c39",
   "metadata": {},
   "source": [
    "### Ejercicio 11:\n",
    "    \n",
    "Crear una funcion llamada calcular_edad que retorne la edad del usuario. ​\n",
    "\n",
    "Los parametros son: año actual, año de nacimiento y un parametro booleano que indique si la persona ya ha cumplido años en el presente año (False por default).​\n",
    "\n",
    "Calcular y retornar tu edad."
   ]
  },
  {
   "cell_type": "code",
   "execution_count": 40,
   "id": "c1c63240",
   "metadata": {},
   "outputs": [
    {
     "name": "stdout",
     "output_type": "stream",
     "text": [
      "Usted tiene: 24 años\n"
     ]
    }
   ],
   "source": [
    "def calcular_edad(anio_act, anio_nac, ya_cumplio = False):\n",
    "    edad = anio_act - anio_nac\n",
    "    \n",
    "    if ya_cumplio == False:\n",
    "        edad = edad - 1\n",
    "    \n",
    "    return edad\n",
    "\n",
    "edad = calcular_edad(2022, 1997)\n",
    "print(\"Usted tiene:\",edad,\"años\")"
   ]
  },
  {
   "cell_type": "markdown",
   "id": "a58ff2a3",
   "metadata": {},
   "source": [
    "### Ejercicio 12:\n",
    "\n",
    "Tenemos una lista de presiones de pozos cuyos valores estan cargados en kg/cm2; sin embargo, algunos de estos datos estan cargados en psi (Nosotrxs tomamos como criterio que un valor >=1000 esta cargado en psi).\n",
    "*  Crear una funcion que corrija los valores mal cargados y que devuelva la lista corregida.\n",
    "* Además retornar  un valor que represente la cantidad de correcciones que se efectuaron.\n",
    "\n",
    "*14,2 psi = 1kg/cm2*"
   ]
  },
  {
   "cell_type": "code",
   "execution_count": 41,
   "id": "98456b7e",
   "metadata": {},
   "outputs": [
    {
     "name": "stdout",
     "output_type": "stream",
     "text": [
      "[81, 91.61971830985917, 14, 102, 147.88732394366198, 320, 403, 806, 77.74647887323944, 975]\n",
      "Se corrigieron 3 pozos\n"
     ]
    }
   ],
   "source": [
    "#Ejercicio 12\n",
    "\n",
    "def corregir_presiones(lista_presiones, valor_a_convertir, conversion):\n",
    "    cantidad_corregida = 0\n",
    "    lista_nueva = []\n",
    "    for presion in lista_presiones:\n",
    "        if presion >= valor_a_convertir:\n",
    "            presion = presion/conversion\n",
    "            cantidad_corregida += 1\n",
    "        \n",
    "        lista_nueva.append(presion)\n",
    "        \n",
    "    return lista_nueva, cantidad_corregida\n",
    "\n",
    "presiones_pozos = [81, 1301, 14, 102, 2100, 320, 403, 806, 1104, 975]\n",
    "psi = 1000\n",
    "conversion_a_kg = 14.2\n",
    "presiones_pozos, cantidad_corregida = corregir_presiones(presiones_pozos, psi, conversion_a_kg)\n",
    "\n",
    "print(presiones_pozos)\n",
    "print(\"Se corrigieron\",cantidad_corregida,\"pozos\")"
   ]
  }
 ],
 "metadata": {
  "kernelspec": {
   "display_name": "Python 3 (ipykernel)",
   "language": "python",
   "name": "python3"
  },
  "language_info": {
   "codemirror_mode": {
    "name": "ipython",
    "version": 3
   },
   "file_extension": ".py",
   "mimetype": "text/x-python",
   "name": "python",
   "nbconvert_exporter": "python",
   "pygments_lexer": "ipython3",
   "version": "3.9.7"
  }
 },
 "nbformat": 4,
 "nbformat_minor": 5
}
