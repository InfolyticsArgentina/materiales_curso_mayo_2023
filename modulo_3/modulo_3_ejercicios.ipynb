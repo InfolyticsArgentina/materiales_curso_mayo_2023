{
 "cells": [
  {
   "cell_type": "markdown",
   "id": "0f3498fb",
   "metadata": {},
   "source": [
    "# Ejercicios del Módulo 3\n",
    "\n",
    "pandas"
   ]
  },
  {
   "cell_type": "code",
   "execution_count": 1,
   "id": "09e5284c",
   "metadata": {},
   "outputs": [],
   "source": [
    "import pandas as pd"
   ]
  },
  {
   "cell_type": "markdown",
   "id": "d2bc7455",
   "metadata": {},
   "source": [
    "### Ejercicio 1:\n",
    "    \n",
    "* Importar el csv pozos-jujuy-2020. \n",
    "* Imprimir primeras 5 filas con head() y las ultimas 5 con tail(), para conocer el contenido del mismo.\n",
    "* Utilizar la function describe() para profundizar"
   ]
  },
  {
   "cell_type": "code",
   "execution_count": null,
   "id": "6c87c656",
   "metadata": {},
   "outputs": [],
   "source": [
    "#Ejercicio 1\n",
    "\n",
    "pozos_jujuy = None"
   ]
  },
  {
   "cell_type": "markdown",
   "id": "32419eec",
   "metadata": {},
   "source": [
    "### Ejercicio 2:\n",
    "    \n",
    "I. Seleccionar la columna prod_pet utilizando loc.​\n",
    "\n",
    "II. Usando el csv cargado en el ejercicio imprimir aquellos pozos cuya produccion de petroleo sea mayor o menor a su promedio con una diferencia de una desviacion estandar utilizando loc. Para ello seguir los siguientes pasos:​\n",
    "\n",
    "* Guardar el promedio de produccion y su desviacion estandar en dos variables llamadas mean  y std​\n",
    "\n",
    "* Seleccionar aquellas filas de la columna prod_pet cuyo valor sea mayor que su media + su desviacion standard  (mean + std)​\n",
    "\n",
    "* Seleccionar aquellas filas cuyo valor sea: mayor que su media + su desviacion standard (mean+std) o  menor que la misma( mean – std). Hint: cambiar la instruccion del punto anterior usando “or”"
   ]
  },
  {
   "cell_type": "code",
   "execution_count": null,
   "id": "0ba9e684",
   "metadata": {},
   "outputs": [],
   "source": [
    "#Ejercicio 2\n",
    "\n",
    "mean = None\n",
    "std = None"
   ]
  },
  {
   "cell_type": "markdown",
   "id": "f5938093",
   "metadata": {},
   "source": [
    "### Ejercicio 3:\n",
    "Ir al notebook llamado *Mod_3_Ej_preprocesamiento*"
   ]
  },
  {
   "cell_type": "markdown",
   "id": "a309139d",
   "metadata": {},
   "source": [
    "### Ejercicio 4:\n",
    "Usando el csv pozos-jujuy-2020 y por medio del método apply convertir la producción de gas de Msm3/d a Mscf/d​\n",
    "\n",
    "*1m3= 35.31 cft*"
   ]
  },
  {
   "cell_type": "code",
   "execution_count": 2,
   "id": "65fe6c88",
   "metadata": {},
   "outputs": [],
   "source": [
    "#Ejercicio 4\n",
    "\n",
    "def convertir_gas(valor):\n",
    "    pass\n",
    "\n",
    "valores_mscf = None"
   ]
  },
  {
   "cell_type": "markdown",
   "id": "fa04bd60",
   "metadata": {},
   "source": [
    "### Ejercicio 5:\n",
    "    \n",
    "Importar el csv \"ej_columnas.csv\". Queremos extraer las coordenadas de la columna \"geojson\" (organizadas por latitud, longitud), para lo cual seguiremos estos pasos:\n",
    "* Definir una funcion llamada extraer_coord cuyos parametros sean: un string y un booleano.\n",
    "* Guardar en dos variables llamadas inicio y final la posicion de cada uno de los [] presentes en el string usando la funcion find (a la posicion del primero sumarle 1).\n",
    "* Guardar en otra variable llamada coord la porcion del string que se encuentra entre ambas posiciones, que deberia darnos otro string con las coordenadas.\n",
    "* Crear las variables x, y asignandoles el retorno de la funcion split aplicada a la variable coord. El delimitador debe ser una coma.\n",
    "* Devolver un numero float que corresponda con la latitud o la longitud (variables x, y) dependiendo de si el parametro booleano tiene un estado True o False.\n",
    "\n",
    "Cuando, al usar apply se llama una funcion que tiene mas de un argumento, se agrega el parametro args y se agrega una lista con todos los parametros de la funcion menos el primero:\n",
    "Si tenemos la funcion f(a, b), al usar apply deberiamos escribir df.apply(f, args = [b])\n",
    "\n",
    "* Crear la columna \"lat\" usando apply con la funcion definida; el parametro booleano debe ser True\n",
    "* Crear la columna \"lon\" usando apply con la funcion definida; el parametro booleano debe ser False"
   ]
  },
  {
   "cell_type": "code",
   "execution_count": null,
   "id": "4d551053",
   "metadata": {},
   "outputs": [],
   "source": [
    "#Ejercicio 5\n",
    "\n",
    "df = None\n",
    "\n",
    "def extraer_coord(string_coord, lat):\n",
    "    pass\n",
    "\n",
    "df[\"lat\"] = None\n",
    "df[\"lon\"] = None"
   ]
  },
  {
   "cell_type": "markdown",
   "id": "054667b5",
   "metadata": {},
   "source": [
    "### Ejercicio 6:\n",
    "    \n",
    "Usando el dataframe pozos-jujuy-2020:​\n",
    "\n",
    "Agrupar los pozos por id utilizando la funcion groupby() y guardar el promedio de produccion de petroleo de cada pozo en una variable llamada mean_pozos​\n",
    "\n",
    "Imprimir aquellos pozos cuyo promedio de produccion de petroleo sea mayor al promedio de produccion de petroleo total con loc[]​"
   ]
  },
  {
   "cell_type": "code",
   "execution_count": null,
   "id": "254159ac",
   "metadata": {},
   "outputs": [],
   "source": [
    "#Ejercicio 6\n",
    "\n",
    "mean_pozos = None"
   ]
  },
  {
   "cell_type": "markdown",
   "id": "05be2548",
   "metadata": {},
   "source": [
    "### Ejercicio 7:\n",
    "    \n",
    "Queremos imprimir la suma de produccion, el minimo y el maximo de la produccion de petroleo y gas de cualquier area del dataframe. Para esto necesitamos crear una funcion que siga estos pasos:​\n",
    "\n",
    "* Tiene tres parametros: el dataframe, el nombre del area y la columna con los valores de produccion​\n",
    "\n",
    "* Agrupar el dataframe por 'areayacimiento' y realizar un get_group con el area pasada por parametro \n",
    "\n",
    "* Imprimir los valores deseados​\n",
    "\n",
    "Probar la funcion con el area \"CAIMANCITO\" y las columnas prod_pet y prod_gas"
   ]
  },
  {
   "cell_type": "code",
   "execution_count": null,
   "id": "10c5aeba",
   "metadata": {},
   "outputs": [],
   "source": [
    "#Ejercicio 7\n",
    "\n",
    "def imprimir_datos_por_area(df, area, columna_valores):\n",
    "    pass\n",
    "\n",
    "imprimir_datos_por_area(pozos_jujuy, \"CAIMANCITO\", 'prod_pet')\n",
    "imprimir_datos_por_area(pozos_jujuy, \"CAIMANCITO\", 'prod_gas')"
   ]
  },
  {
   "cell_type": "markdown",
   "id": "d27e14dc",
   "metadata": {},
   "source": [
    "### Ejercicio 8:\n",
    "    \n",
    "Filtrar el dataframe pozos-jujuy-2020 para que se incluyan solo las columnas: idempresa, anio, mes, idpozo, prod_pet, prod_gas y areayacimiento. \n",
    "\n",
    "Escriba una funcion con los parametros df y mes, que retorne un dataframe con todos los pozos de un mes especifico cuya produccion de petroleo y de gas superen la media. \n",
    "\n",
    "Luego guardar el dataframe en un archivo csv con nombre pozos_sobre_la_media."
   ]
  },
  {
   "cell_type": "code",
   "execution_count": null,
   "id": "194bc635",
   "metadata": {},
   "outputs": [],
   "source": [
    "#Ejercicio 8\n",
    "\n",
    "def pozos_sobresalientes(df, mes):\n",
    "    pass\n",
    "\n",
    "pozos_filtrados = None"
   ]
  }
 ],
 "metadata": {
  "kernelspec": {
   "display_name": "Python 3 (ipykernel)",
   "language": "python",
   "name": "python3"
  },
  "language_info": {
   "codemirror_mode": {
    "name": "ipython",
    "version": 3
   },
   "file_extension": ".py",
   "mimetype": "text/x-python",
   "name": "python",
   "nbconvert_exporter": "python",
   "pygments_lexer": "ipython3",
   "version": "3.9.7"
  }
 },
 "nbformat": 4,
 "nbformat_minor": 5
}
