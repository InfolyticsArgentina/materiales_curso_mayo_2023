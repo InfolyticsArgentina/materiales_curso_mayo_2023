{
 "cells": [
  {
   "cell_type": "markdown",
   "id": "ed685a3c",
   "metadata": {},
   "source": [
    "# Ejercicios del Módulo 3\n",
    "\n",
    "pandas: ejercicio con merge"
   ]
  },
  {
   "cell_type": "markdown",
   "id": "d3774ae4",
   "metadata": {},
   "source": [
    "### Ejercicio 9\n",
    "\n",
    "* Importar los csv: pozos-jujuy-2020 y pozos-jujuy-2019\n",
    "\n",
    "* ¿Cuantas columnas comparten ambos dataframes? ¿Tienen las mismas columnas?​\n",
    "\n",
    "* Concatenar los dataframes en una variable llamada pozos_concat\n",
    "\n",
    "* Importar el csv civ-jujuy y guardarlo en una variable llamada civ\n",
    "\n",
    "* ¿Cuantas columnas comparten pozos_concat y civ?\n",
    "\n",
    "* Realizar un left merge entre pozos_concat y el dataframe civ y guardarlo en una variable llamada jujuy_merge​\n",
    "\n",
    "* Ejecutar la siguiente linea de codigo: ​jujuy_merge.drop(jujuy_merge.filter(regex='_y$').columns.tolist(),axis=1, inplace=True)"
   ]
  },
  {
   "cell_type": "code",
   "execution_count": 1,
   "id": "127bd9a7",
   "metadata": {},
   "outputs": [],
   "source": [
    "import pandas as pd"
   ]
  },
  {
   "cell_type": "code",
   "execution_count": null,
   "id": "a792dd92",
   "metadata": {},
   "outputs": [],
   "source": [
    "pozos_2020 = None"
   ]
  },
  {
   "cell_type": "code",
   "execution_count": null,
   "id": "0096d5fc",
   "metadata": {},
   "outputs": [],
   "source": [
    "pozos_2019 = None"
   ]
  },
  {
   "cell_type": "code",
   "execution_count": null,
   "id": "bb4372f7",
   "metadata": {},
   "outputs": [],
   "source": [
    "pozos_concat = None"
   ]
  },
  {
   "cell_type": "code",
   "execution_count": null,
   "id": "7d8f3fda",
   "metadata": {},
   "outputs": [],
   "source": [
    "civ = None"
   ]
  },
  {
   "cell_type": "code",
   "execution_count": null,
   "id": "974dc424",
   "metadata": {},
   "outputs": [],
   "source": [
    "jujuy_merge = None"
   ]
  },
  {
   "cell_type": "code",
   "execution_count": null,
   "id": "8611c8b9",
   "metadata": {},
   "outputs": [],
   "source": [
    "jujuy_merge.drop(jujuy_merge.filter(regex='_y$').columns.tolist(),axis=1, inplace=True)"
   ]
  }
 ],
 "metadata": {
  "kernelspec": {
   "display_name": "Python 3 (ipykernel)",
   "language": "python",
   "name": "python3"
  },
  "language_info": {
   "codemirror_mode": {
    "name": "ipython",
    "version": 3
   },
   "file_extension": ".py",
   "mimetype": "text/x-python",
   "name": "python",
   "nbconvert_exporter": "python",
   "pygments_lexer": "ipython3",
   "version": "3.9.7"
  }
 },
 "nbformat": 4,
 "nbformat_minor": 5
}
