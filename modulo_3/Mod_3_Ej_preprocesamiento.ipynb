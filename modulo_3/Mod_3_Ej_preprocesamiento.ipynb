{
 "cells": [
  {
   "cell_type": "markdown",
   "id": "2aa46405",
   "metadata": {},
   "source": [
    "# Ejercicio del Módulo 3\n",
    "\n",
    "Ejercicio de preprocesamiento"
   ]
  },
  {
   "cell_type": "markdown",
   "id": "f4f99f15",
   "metadata": {},
   "source": [
    "### Ejercicio 3:\n",
    "\n",
    "Importar csv 'cincinnati_employees.csv' aclarando que index_col=[0]​\n",
    "\n",
    "Explorar el dataframe utilizando las funciones head(), tail() y describe()\n",
    "\n",
    "Dropear las columnas: eeo_job_group, job_family, jobtitle, jobtitle_abbrv, deptname_abbrv​\n",
    "\n",
    "Borrar las filas de la columna annual_rt que contengan valores nan. Asignar el resultado a un dataframe llamado empleados_limpio, usando el metodo .copy() al final de la sentencia.\n",
    "Un ejemplo seria: df_limpio = df[sentencia usada para eliminar nans].copy()\n",
    "\n",
    "Revisar con dtypes si las columnas de fechas son de tipo datetime. Si no lo son, convertirlas."
   ]
  },
  {
   "cell_type": "code",
   "execution_count": 2,
   "id": "69443043",
   "metadata": {},
   "outputs": [],
   "source": [
    "#Importar pandas\n",
    "\n",
    "import pandas as pd"
   ]
  },
  {
   "cell_type": "code",
   "execution_count": null,
   "id": "2e826c3f",
   "metadata": {},
   "outputs": [],
   "source": [
    "#Importar csv y explorar el dataframe"
   ]
  },
  {
   "cell_type": "code",
   "execution_count": null,
   "id": "a947a291",
   "metadata": {},
   "outputs": [],
   "source": [
    "#Dropear columnas"
   ]
  },
  {
   "cell_type": "code",
   "execution_count": null,
   "id": "ba4d5d10",
   "metadata": {},
   "outputs": [],
   "source": [
    "#Borrar filas de annual_rt con nans"
   ]
  },
  {
   "cell_type": "code",
   "execution_count": null,
   "id": "eff273bc",
   "metadata": {},
   "outputs": [],
   "source": [
    "#Cambiar tipo de fecha si corresponde"
   ]
  },
  {
   "cell_type": "markdown",
   "id": "a10bf4a0-e88d-410f-b452-50eb78b3aaf6",
   "metadata": {},
   "source": [
    "### Ejercicio funciones de string\n",
    "\n",
    "En el dataframe de empleados generar una columna para el correo electronico siguiendo estas condiciones:\n",
    "\n",
    "a. Generar 2 columnas, nombre y apellido, usando operaciones de string.\n",
    "\n",
    "b. Generar una columna de correos electronicos con la estructura nombre . apellido @ paygroup . cincinatti . gov"
   ]
  },
  {
   "cell_type": "markdown",
   "id": "9a26ddc7-1157-4f6f-8bed-52c0e892070f",
   "metadata": {},
   "source": [
    "### Ejercicio email con apply\n",
    "\n",
    "En el dataframe de empleados generar una columna para el correo electronico  nombre . apellido @ paygroup . cincinatti . gov  usando apply, creando una funcion llamada email_desde_nombre"
   ]
  },
  {
   "cell_type": "code",
   "execution_count": null,
   "id": "a0dd136c-a9b2-497b-b871-6d0f6a612e68",
   "metadata": {},
   "outputs": [],
   "source": []
  }
 ],
 "metadata": {
  "kernelspec": {
   "display_name": "Python 3 (ipykernel)",
   "language": "python",
   "name": "python3"
  },
  "language_info": {
   "codemirror_mode": {
    "name": "ipython",
    "version": 3
   },
   "file_extension": ".py",
   "mimetype": "text/x-python",
   "name": "python",
   "nbconvert_exporter": "python",
   "pygments_lexer": "ipython3",
   "version": "3.10.10"
  }
 },
 "nbformat": 4,
 "nbformat_minor": 5
}
