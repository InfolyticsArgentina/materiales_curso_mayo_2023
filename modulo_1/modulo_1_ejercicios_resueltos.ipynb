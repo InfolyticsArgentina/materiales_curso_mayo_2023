{
 "cells": [
  {
   "cell_type": "markdown",
   "id": "a86bb3e0",
   "metadata": {},
   "source": [
    "# Ejercicios del Módulo 1\n",
    "\n",
    "tipos de datos, variables y estructuras de datos"
   ]
  },
  {
   "cell_type": "markdown",
   "id": "e3705b7c",
   "metadata": {},
   "source": [
    "### Ejercicio 1: \n",
    "Hacer el programa de imprimir Hola mundo en jupyter notebook."
   ]
  },
  {
   "cell_type": "code",
   "execution_count": 1,
   "id": "b78223a0",
   "metadata": {},
   "outputs": [
    {
     "name": "stdout",
     "output_type": "stream",
     "text": [
      "Hola mundo!\n"
     ]
    }
   ],
   "source": [
    "#Ejercicio 1\n",
    "\n",
    "print(\"Hola mundo!\")"
   ]
  },
  {
   "cell_type": "markdown",
   "id": "8152f3dd",
   "metadata": {},
   "source": [
    "### Ejercicio 2: \n",
    "Pregunta: Cual es output de un programa que consiste en: numero2=numero+4​, donde numero=1\n",
    "\n",
    "print(numero2)"
   ]
  },
  {
   "cell_type": "code",
   "execution_count": 2,
   "id": "2fbf75f5",
   "metadata": {},
   "outputs": [
    {
     "name": "stdout",
     "output_type": "stream",
     "text": [
      "5\n"
     ]
    }
   ],
   "source": [
    "#Ejercicio 2\n",
    "\n",
    "numero = 1\n",
    "numero2 = numero + 4\n",
    "print(numero2)"
   ]
  },
  {
   "cell_type": "markdown",
   "id": "bba1db14",
   "metadata": {},
   "source": [
    "### Ejercicio 3:\n",
    "Un pozo acumulo 1000 m3 de petroleo durante su primer año de produccion. Pedir este valor por input y  guardarlo en una variable. Luego calcular la produccion promedio en m3/dia, m3/hora y acumulada en barriles. Imprimir estos valores.\n",
    "\n",
    "*6.28 bbl = 1 m3*"
   ]
  },
  {
   "cell_type": "code",
   "execution_count": 3,
   "id": "b6945fa0",
   "metadata": {},
   "outputs": [
    {
     "name": "stdout",
     "output_type": "stream",
     "text": [
      "Ingrese el valor acumulado por el pozo en un año de produccion\n",
      "1000\n",
      "La produccion promedio en m3/dia es 2.73972602739726\n",
      "La produccion promedio en m3/hora es 0.1141552511415525\n",
      "La produccion promedio en barriles es 17.205479452054796\n"
     ]
    }
   ],
   "source": [
    "#Ejercicio 3\n",
    "\n",
    "print(\"Ingrese el valor acumulado por el pozo en un año de produccion\")\n",
    "produccion_pozo = float(input())\n",
    "produccion_dia = produccion_pozo/365\n",
    "produccion_hora = produccion_dia/24\n",
    "produccion_barriles = produccion_dia*6.28\n",
    "\n",
    "print(\"La produccion promedio en m3/dia es\",produccion_dia)\n",
    "print(\"La produccion promedio en m3/hora es\",produccion_hora)\n",
    "print(\"La produccion promedio en barriles es\",produccion_barriles)"
   ]
  },
  {
   "cell_type": "markdown",
   "id": "aade9f7d",
   "metadata": {},
   "source": [
    "### Ejercicio 4: \n",
    "\n",
    "Contamos con una lista que contiene provincias argentinas productoras de hidrocarburos. Sin embargo, la lista presenta algunos problemas que hay que corregir:​\n",
    "\n",
    "1. Mendoza tiene un error gramatical​\n",
    "\n",
    "2. Sao Paulo no es una provincia argentina​\n",
    "\n",
    "3. Falta agregar Neuquen a la lista.\n",
    "\n",
    "Modificar la lista corrigiendo los problemas enumerados."
   ]
  },
  {
   "cell_type": "code",
   "execution_count": 4,
   "id": "1ac7df27",
   "metadata": {},
   "outputs": [
    {
     "name": "stdout",
     "output_type": "stream",
     "text": [
      "['Chubut', 'Formosa', 'Jujuy', 'La Pampa', 'Mendoza', 'Rio Negro', 'Salta', 'Santa Cruz', 'Neuquen']\n"
     ]
    }
   ],
   "source": [
    "#Ejercicio 4\n",
    "\n",
    "provincias = [\"Chubut\", \"Formosa\", \"Jujuy\", \"La Pampa\", \"Mendza\", \n",
    "              \"Rio Negro\", \"Salta\", \"Sao Paulo\", \"Santa Cruz\"]\n",
    "provincias[4] = \"Mendoza\"\n",
    "provincias.pop(7)\n",
    "provincias.append(\"Neuquen\")\n",
    "print(provincias)"
   ]
  },
  {
   "cell_type": "markdown",
   "id": "5f4785be",
   "metadata": {},
   "source": [
    "### Ejercicio 5: \n",
    "Tenemos la siguiente lista de pozos:\n",
    "\n",
    "id_pozos = [\"33907\", \"33886\", \"33901\", \"33907\", \"34535\", \"34535\", \"34538\", \"33901\"]\n",
    "\n",
    "Si añadiesemos todos los elementos a un set, ¿cuantos elementos tendria el set y en que orden?​"
   ]
  },
  {
   "cell_type": "code",
   "execution_count": 5,
   "id": "c6952e79",
   "metadata": {},
   "outputs": [
    {
     "name": "stdout",
     "output_type": "stream",
     "text": [
      "['33907', '33886', '33901', '33907', '34535', '34535', '34538', '33901']\n",
      "{'34538', '33901', '33886', '33907', '34535'}\n",
      "El set tiene 5 elementos\n"
     ]
    }
   ],
   "source": [
    "#Ejercicio 5\n",
    "\n",
    "id_pozos = [\"33907\", \"33886\", \"33901\", \"33907\", \"34535\", \"34535\", \"34538\", \"33901\"]\n",
    "print(id_pozos)\n",
    "\n",
    "#El set tendra 5 elementos, ya que en la lista hay 3 elementos repetidos. \n",
    "#No tendra ningun orden en particular ya que los sets son desordenados.\n",
    "set_pozos = {\"33907\", \"33886\", \"33901\", \"33907\", \"34535\", \"34535\", \"34538\", \"33901\"}\n",
    "print(set_pozos)\n",
    "print(\"El set tiene\",len(set_pozos),\"elementos\")"
   ]
  },
  {
   "cell_type": "markdown",
   "id": "33435b9b",
   "metadata": {},
   "source": [
    "### Ejercicio 6:\n",
    "\n",
    "Pedir al usuario que ingrese los siguientes numeros: 50, 200, 100.​\n",
    "\n",
    "Guardarlos en una tupla y luego imprimir el resultado de la division entre el ultimo y el primer elemento de la tupla."
   ]
  },
  {
   "cell_type": "code",
   "execution_count": 6,
   "id": "734ce8d6",
   "metadata": {},
   "outputs": [
    {
     "name": "stdout",
     "output_type": "stream",
     "text": [
      "Ingrese el primer numero\n",
      "50\n",
      "Ingrese el segundo numero\n",
      "200\n",
      "Ingrese el tercer numero\n",
      "100\n",
      "La division entre el ultimo y el primer elemento de la tupla es 2.0\n"
     ]
    }
   ],
   "source": [
    "#Ejercicio 6\n",
    "\n",
    "print(\"Ingrese el primer numero\")\n",
    "numero1 = float(input())\n",
    "print(\"Ingrese el segundo numero\")\n",
    "numero2 = float(input())\n",
    "print(\"Ingrese el tercer numero\")\n",
    "numero3 = float(input())\n",
    "\n",
    "tupla = (numero1, numero2, numero3)\n",
    "print(\"La division entre el ultimo y el primer elemento de la tupla es\",tupla[2]/tupla[0])"
   ]
  },
  {
   "cell_type": "markdown",
   "id": "f19b47ab",
   "metadata": {},
   "source": [
    "### Ejercicio 7: \n",
    "Tenemos un diccionario llamado pozos_por_provincia que asocia un nombre de pozo con la provincia a la que pertenece. \n",
    "\n",
    "Que problema tiene este diccionario? Desarrolle un diccionario que contenga los mismos datos pero que corrija el problema planteado."
   ]
  },
  {
   "cell_type": "code",
   "execution_count": 7,
   "id": "61a5ce21",
   "metadata": {},
   "outputs": [
    {
     "name": "stdout",
     "output_type": "stream",
     "text": [
      "{'Chubut': 'GBK-107', 'Santa Cruz': 'ECh-97', 'Mendoza': 'VIz-42'}\n",
      "Diccionario corregido: {'GBK-110': 'Chubut', 'LP-49': 'Santa Cruz', 'ECh-97': 'Santa Cruz', 'VIz-42': 'Mendoza', 'GBK-107': 'Chubut'}\n"
     ]
    }
   ],
   "source": [
    "#Ejercicio 7\n",
    "\n",
    "pozos_por_provincia = {\n",
    "    \"Chubut\": \"GBK-110\",\n",
    "    \"Santa Cruz\": \"LP-49\",\n",
    "    \"Santa Cruz\": \"ECh-97\",\n",
    "    \"Mendoza\": \"VIz-42\",\n",
    "    \"Chubut\": \"GBK-107\"\n",
    "}\n",
    "print(pozos_por_provincia)\n",
    "\n",
    "\n",
    "pozos_por_provincia = {\n",
    "    \"GBK-110\": \"Chubut\",\n",
    "    \"LP-49\": \"Santa Cruz\",\n",
    "    \"ECh-97\": \"Santa Cruz\",\n",
    "    \"VIz-42\": \"Mendoza\",\n",
    "    \"GBK-107\": \"Chubut\"\n",
    "}\n",
    "\n",
    "print(\"Diccionario corregido:\",pozos_por_provincia)"
   ]
  },
  {
   "cell_type": "markdown",
   "id": "73955dfe",
   "metadata": {},
   "source": [
    "###  Ejercicio 8:\n",
    "Crear un diccionario que contenga los datos de la tabla, usando la provincia como keyword.\n",
    "\n",
    "| Id      | Produccion petroleo m3/mes​ | Provincia |\n",
    "| ----------- | ----------- | ----------- |\n",
    "| 33901      | 1151       | Jujuy |\n",
    "| 34538      | 343       | Jujuy |\n",
    "| 33886      | 157       | Jujuy |\n",
    "| 34535      | 123       | Jujuy |\n",
    "| 33907      | 68       | Jujuy |\n",
    "| 160580      | 4435       | Rio Negro |\n",
    "| 10156      | 2811       | Rio Negro |\n",
    "| 160441      | 2171       | Rio Negro |\n",
    "| 161429      | 1696       | Rio Negro |\n",
    "| 161430      | 1632       | Rio Negro |\n"
   ]
  },
  {
   "cell_type": "code",
   "execution_count": 8,
   "id": "03132130",
   "metadata": {},
   "outputs": [
    {
     "name": "stdout",
     "output_type": "stream",
     "text": [
      "{'Jujuy': {'33901': 1151.5, '34538': 343.17, '33886': 157.17, '34535': 123, '33907': 68.145}, 'Rio Negro': {'160580': 4435.67, '10156': 2811, '160441': 2171.471, '161429': 1696.15, '161430': 1632.76}}\n"
     ]
    }
   ],
   "source": [
    "#Ejercicio 8\n",
    "\n",
    "diccionario_produccion = {\n",
    "    \"Jujuy\": {\n",
    "        \"33901\": 1151.5,\n",
    "        \"34538\": 343.17,\n",
    "        \"33886\": 157.17,\n",
    "        \"34535\": 123,\n",
    "        \"33907\": 68.145\n",
    "    },\n",
    "    \"Rio Negro\": {\n",
    "        \"160580\": 4435.67,\n",
    "        \"10156\": 2811,\n",
    "        \"160441\": 2171.471,\n",
    "        \"161429\": 1696.15,\n",
    "        \"161430\": 1632.76\n",
    "    }\n",
    "}\n",
    "print(diccionario_produccion)"
   ]
  }
 ],
 "metadata": {
  "kernelspec": {
   "display_name": "Python 3 (ipykernel)",
   "language": "python",
   "name": "python3"
  },
  "language_info": {
   "codemirror_mode": {
    "name": "ipython",
    "version": 3
   },
   "file_extension": ".py",
   "mimetype": "text/x-python",
   "name": "python",
   "nbconvert_exporter": "python",
   "pygments_lexer": "ipython3",
   "version": "3.9.7"
  }
 },
 "nbformat": 4,
 "nbformat_minor": 5
}
