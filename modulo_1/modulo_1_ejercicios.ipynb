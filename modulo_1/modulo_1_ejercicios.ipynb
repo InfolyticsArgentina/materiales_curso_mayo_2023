{
 "cells": [
  {
   "cell_type": "markdown",
   "id": "a86bb3e0",
   "metadata": {},
   "source": [
    "# Ejercicios del Módulo 1\n",
    "\n",
    "tipos de datos, variables y estructuras de datos"
   ]
  },
  {
   "cell_type": "markdown",
   "id": "e3705b7c",
   "metadata": {},
   "source": [
    "### Ejercicio 1: \n",
    "Hacer el programa de imprimir Hola mundo en jupyter notebook."
   ]
  },
  {
   "cell_type": "code",
   "execution_count": 1,
   "id": "b78223a0",
   "metadata": {},
   "outputs": [],
   "source": [
    "#Ejercicio 1\n"
   ]
  },
  {
   "cell_type": "markdown",
   "id": "8152f3dd",
   "metadata": {},
   "source": [
    "### Ejercicio 2: \n",
    "Pregunta: Cual es output de un programa que consiste en: numero2=numero+4​, donde numero=1\n",
    "\n",
    "print(numero2)"
   ]
  },
  {
   "cell_type": "code",
   "execution_count": 2,
   "id": "2fbf75f5",
   "metadata": {},
   "outputs": [],
   "source": [
    "#Ejercicio 2\n",
    "\n",
    "numero = 1\n",
    "numero2 = numero + 4\n"
   ]
  },
  {
   "cell_type": "markdown",
   "id": "bba1db14",
   "metadata": {},
   "source": [
    "### Ejercicio 3:\n",
    "Un pozo acumulo 1000 m3 de petroleo durante su primer año de produccion. Pedir este valor por input y  guardarlo en una variable. Luego calcular la produccion promedio en m3/dia, m3/hora y acumulada en barriles. Imprimir estos valores.\n",
    "\n",
    "*6.28 bbl = 1 m3*"
   ]
  },
  {
   "cell_type": "code",
   "execution_count": 3,
   "id": "b6945fa0",
   "metadata": {},
   "outputs": [],
   "source": [
    "#Ejercicio 3\n",
    "\n"
   ]
  },
  {
   "cell_type": "markdown",
   "id": "aade9f7d",
   "metadata": {},
   "source": [
    "### Ejercicio 4: \n",
    "\n",
    "Contamos con una lista que contiene provincias argentinas productoras de hidrocarburos. Sin embargo, la lista presenta algunos problemas que hay que corregir:​\n",
    "\n",
    "1. Mendoza tiene un error gramatical​\n",
    "\n",
    "2. Sao Paulo no es una provincia argentina​\n",
    "\n",
    "3. Falta agregar Neuquen a la lista.\n",
    "\n",
    "Modificar la lista corrigiendo los problemas enumerados."
   ]
  },
  {
   "cell_type": "code",
   "execution_count": 4,
   "id": "1ac7df27",
   "metadata": {},
   "outputs": [],
   "source": [
    "#Ejercicio 4\n",
    "\n",
    "provincias = [\"Chubut\", \"Formosa\", \"Jujuy\", \"La Pampa\", \"Mendza\", \n",
    "              \"Rio Negro\", \"Salta\", \"Sao Paulo\", \"Santa Cruz\"]"
   ]
  },
  {
   "cell_type": "markdown",
   "id": "5f4785be",
   "metadata": {},
   "source": [
    "### Ejercicio 5: \n",
    "Tenemos la siguiente lista de pozos:\n",
    "\n",
    "id_pozos = [\"33907\", \"33886\", \"33901\", \"33907\", \"34535\", \"34535\", \"34538\", \"33901\"]\n",
    "\n",
    "Si añadiesemos todos los elementos a un set, ¿cuantos elementos tendria el set y en que orden?​"
   ]
  },
  {
   "cell_type": "code",
   "execution_count": 5,
   "id": "c6952e79",
   "metadata": {},
   "outputs": [
    {
     "name": "stdout",
     "output_type": "stream",
     "text": [
      "['33907', '33886', '33901', '33907', '34535', '34535', '34538', '33901']\n"
     ]
    }
   ],
   "source": [
    "#Ejercicio 5\n",
    "\n",
    "id_pozos = [\"33907\", \"33886\", \"33901\", \"33907\", \"34535\", \"34535\", \"34538\", \"33901\"]\n",
    "print(id_pozos)"
   ]
  },
  {
   "cell_type": "markdown",
   "id": "33435b9b",
   "metadata": {},
   "source": [
    "### Ejercicio 6:\n",
    "\n",
    "Pedir al usuario que ingrese los siguientes numeros: 50, 200, 100.​\n",
    "\n",
    "Guardarlos en una tupla y luego imprimir el resultado de la division entre el ultimo y el primer elemento de la tupla."
   ]
  },
  {
   "cell_type": "code",
   "execution_count": 6,
   "id": "734ce8d6",
   "metadata": {},
   "outputs": [],
   "source": [
    "#Ejercicio 6\n"
   ]
  },
  {
   "cell_type": "markdown",
   "id": "f19b47ab",
   "metadata": {},
   "source": [
    "### Ejercicio 7: \n",
    "Tenemos un diccionario llamado pozos_por_provincia que asocia un nombre de pozo con la provincia a la que pertenece. \n",
    "\n",
    "¿Qué problema tiene este diccionario? Desarrolle un diccionario que contenga los mismos datos pero que corrija el problema planteado."
   ]
  },
  {
   "cell_type": "code",
   "execution_count": 7,
   "id": "61a5ce21",
   "metadata": {
    "scrolled": true
   },
   "outputs": [
    {
     "name": "stdout",
     "output_type": "stream",
     "text": [
      "{'Chubut': 'GBK-107', 'Santa Cruz': 'ECh-97', 'Mendoza': 'VIz-42'}\n"
     ]
    }
   ],
   "source": [
    "#Ejercicio 7\n",
    "\n",
    "pozos_por_provincia = {\n",
    "    \"Chubut\": \"GBK-110\",\n",
    "    \"Santa Cruz\": \"LP-49\",\n",
    "    \"Santa Cruz\": \"ECh-97\",\n",
    "    \"Mendoza\": \"VIz-42\",\n",
    "    \"Chubut\": \"GBK-107\"\n",
    "}\n",
    "print(pozos_por_provincia)\n"
   ]
  },
  {
   "cell_type": "markdown",
   "id": "73955dfe",
   "metadata": {},
   "source": [
    "###  Ejercicio 8:\n",
    "Crear un diccionario que contenga los datos de la tabla, usando la provincia como keyword.\n",
    "\n",
    "| Id      | Produccion petroleo m3/mes​ | Provincia |\n",
    "| ----------- | ----------- | ----------- |\n",
    "| 33901      | 1151       | Jujuy |\n",
    "| 34538      | 343       | Jujuy |\n",
    "| 33886      | 157       | Jujuy |\n",
    "| 34535      | 123       | Jujuy |\n",
    "| 33907      | 68       | Jujuy |\n",
    "| 160580      | 4435       | Rio Negro |\n",
    "| 10156      | 2811       | Rio Negro |\n",
    "| 160441      | 2171       | Rio Negro |\n",
    "| 161429      | 1696       | Rio Negro |\n",
    "| 161430      | 1632       | Rio Negro |\n"
   ]
  },
  {
   "cell_type": "code",
   "execution_count": 8,
   "id": "03132130",
   "metadata": {},
   "outputs": [],
   "source": [
    "#Ejercicio 8\n"
   ]
  }
 ],
 "metadata": {
  "kernelspec": {
   "display_name": "Python 3 (ipykernel)",
   "language": "python",
   "name": "python3"
  },
  "language_info": {
   "codemirror_mode": {
    "name": "ipython",
    "version": 3
   },
   "file_extension": ".py",
   "mimetype": "text/x-python",
   "name": "python",
   "nbconvert_exporter": "python",
   "pygments_lexer": "ipython3",
   "version": "3.9.7"
  }
 },
 "nbformat": 4,
 "nbformat_minor": 5
}
