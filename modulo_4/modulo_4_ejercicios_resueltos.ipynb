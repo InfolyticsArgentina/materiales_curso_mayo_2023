{
 "cells": [
  {
   "cell_type": "markdown",
   "id": "578d6139",
   "metadata": {},
   "source": [
    "# Ejercicios del Módulo 4\n",
    "\n",
    "matplotlib y numpy"
   ]
  },
  {
   "cell_type": "code",
   "execution_count": 140,
   "id": "43019fa4",
   "metadata": {},
   "outputs": [],
   "source": [
    "#imports siempre primero\n",
    "import numpy as np\n",
    "import pandas as pd\n",
    "import matplotlib.pyplot as plt"
   ]
  },
  {
   "cell_type": "markdown",
   "id": "15fd2d33",
   "metadata": {},
   "source": [
    "### Ejercicio 1\n",
    "Crear los siguientes arrays usando las funciones predefinidas de numpy (arange, linspace, etc)\n",
    "1. Un arreglo con la lista de números a=[0.0,1.1,2.4,5.8,8.9]\n",
    "2. Un arreglo lleno de ceros con dos filas y dos columnas\n",
    "3. Un arreglo lleno de unos con dos filas y dos columnas\n",
    "4. un arreglo de números enteros desde el 0 al 100, inclusive\n",
    "5. un arreglo con los números pares del 2 al 22\n",
    "6. un arreglo de números que empiece en 0.0 y que con intervalos de 0.25 llegue a 10.0 inclusive\n",
    "7. una matriz identidad de dimensiones 3x3\n",
    "8. Un pozo de petróleo tiene una producción inicial de 100 m3/dia. Cada mes su produccion decae al 90% del mes anterior. Hacer un array con numpy que muestre la progresión de la producción hasta llegar a 1m3/dia ¿en qué mes se llega por debajo de 5m3/dia?\n"
   ]
  },
  {
   "cell_type": "code",
   "execution_count": 141,
   "id": "2de4d637",
   "metadata": {},
   "outputs": [
    {
     "data": {
      "text/plain": [
       "array([0. , 1.1, 2.4, 5.8, 8.9])"
      ]
     },
     "execution_count": 141,
     "metadata": {},
     "output_type": "execute_result"
    }
   ],
   "source": [
    "#1\n",
    "a=[0.0,1.1,2.4,5.8,8.9]\n",
    "a_array=np.array(a)\n",
    "a_array"
   ]
  },
  {
   "cell_type": "code",
   "execution_count": 142,
   "id": "fbb9a54b",
   "metadata": {},
   "outputs": [
    {
     "data": {
      "text/plain": [
       "array([[0., 0.],\n",
       "       [0., 0.]])"
      ]
     },
     "execution_count": 142,
     "metadata": {},
     "output_type": "execute_result"
    }
   ],
   "source": [
    "#2\n",
    "b=np.zeros((2,2))\n",
    "b"
   ]
  },
  {
   "cell_type": "code",
   "execution_count": 143,
   "id": "ece4e24f",
   "metadata": {},
   "outputs": [
    {
     "data": {
      "text/plain": [
       "array([[1., 1.],\n",
       "       [1., 1.]])"
      ]
     },
     "execution_count": 143,
     "metadata": {},
     "output_type": "execute_result"
    }
   ],
   "source": [
    "#3\n",
    "c=np.ones_like(b)\n",
    "#o c=np.ones((2,2))\n",
    "c"
   ]
  },
  {
   "cell_type": "code",
   "execution_count": 144,
   "id": "e02c4322",
   "metadata": {},
   "outputs": [
    {
     "data": {
      "text/plain": [
       "array([  0,   1,   2,   3,   4,   5,   6,   7,   8,   9,  10,  11,  12,\n",
       "        13,  14,  15,  16,  17,  18,  19,  20,  21,  22,  23,  24,  25,\n",
       "        26,  27,  28,  29,  30,  31,  32,  33,  34,  35,  36,  37,  38,\n",
       "        39,  40,  41,  42,  43,  44,  45,  46,  47,  48,  49,  50,  51,\n",
       "        52,  53,  54,  55,  56,  57,  58,  59,  60,  61,  62,  63,  64,\n",
       "        65,  66,  67,  68,  69,  70,  71,  72,  73,  74,  75,  76,  77,\n",
       "        78,  79,  80,  81,  82,  83,  84,  85,  86,  87,  88,  89,  90,\n",
       "        91,  92,  93,  94,  95,  96,  97,  98,  99, 100])"
      ]
     },
     "execution_count": 144,
     "metadata": {},
     "output_type": "execute_result"
    }
   ],
   "source": [
    "#4\n",
    "centenar=np.arange(start=0,stop=101,step=1)\n",
    "#o centener=np.arange(101)\n",
    "centenar"
   ]
  },
  {
   "cell_type": "code",
   "execution_count": 145,
   "id": "8488e980",
   "metadata": {},
   "outputs": [
    {
     "data": {
      "text/plain": [
       "array([ 2,  4,  6,  8, 10, 12, 14, 16, 18, 20, 22])"
      ]
     },
     "execution_count": 145,
     "metadata": {},
     "output_type": "execute_result"
    }
   ],
   "source": [
    "#5\n",
    "pares_2_22=np.arange(start=2,stop=24,step=2)\n",
    "pares_2_22"
   ]
  },
  {
   "cell_type": "code",
   "execution_count": 146,
   "id": "ac48be21",
   "metadata": {},
   "outputs": [
    {
     "data": {
      "text/plain": [
       "array([ 0. ,  0.5,  1. ,  1.5,  2. ,  2.5,  3. ,  3.5,  4. ,  4.5,  5. ,\n",
       "        5.5,  6. ,  6.5,  7. ,  7.5,  8. ,  8.5,  9. ,  9.5, 10. ])"
      ]
     },
     "execution_count": 146,
     "metadata": {},
     "output_type": "execute_result"
    }
   ],
   "source": [
    "#6\n",
    "eje_x=np.linspace(start=0,stop=10,num=21)\n",
    "eje_x"
   ]
  },
  {
   "cell_type": "code",
   "execution_count": 147,
   "id": "108f4360",
   "metadata": {},
   "outputs": [
    {
     "name": "stdout",
     "output_type": "stream",
     "text": [
      "[[1. 0. 0.]\n",
      " [0. 1. 0.]\n",
      " [0. 0. 1.]]\n"
     ]
    }
   ],
   "source": [
    "#7\n",
    "identidad_3x3=np.eye(3)\n",
    "print(identidad_3x3)"
   ]
  },
  {
   "cell_type": "code",
   "execution_count": 148,
   "id": "cadb0dfe",
   "metadata": {},
   "outputs": [
    {
     "data": {
      "text/plain": [
       "array([4.7101287 , 4.23911583, 3.81520424, 3.43368382, 3.09031544,\n",
       "       2.78128389, 2.5031555 , 2.25283995, 2.02755596, 1.82480036,\n",
       "       1.64232033, 1.47808829, 1.33027946, 1.19725152, 1.07752637,\n",
       "       0.96977373])"
      ]
     },
     "execution_count": 148,
     "metadata": {},
     "output_type": "execute_result"
    }
   ],
   "source": [
    "#8 Una forma de hacerlo... (ver vectorizacion en numpy)\n",
    "lista=[]\n",
    "p0=100\n",
    "FIN=True\n",
    "lista.append(p0)\n",
    "while FIN:\n",
    "    p0*=0.90\n",
    "    lista.append(p0)\n",
    "    if p0<=1:\n",
    "        FIN=False\n",
    "declino_090=np.array(lista)\n",
    "donde=np.where(declino_090<=5)\n",
    "declino_090[donde]"
   ]
  },
  {
   "cell_type": "markdown",
   "id": "2fbb0bc6",
   "metadata": {},
   "source": [
    "### Ejercicio 2\n",
    "Retomar el dato del módulo 2 ejercicio 6 y crear una matriz con esa lista. Recordemos que el primer número representa la porosidad (fracción) de una muestra de roca y el segundo su porcentaje de arcilla (en fracción).\n",
    ">muestras_rocas = [(0.27, 0.12), (0.11, 0.19), (0.145, 0.06)]\n",
    "\n",
    "Una vez creado, usar la segunda lista y unir las dos matrices de datos como filas (es decir una encima de la otra):\n",
    ">segunda_m_rocas=[(0.17, 0.10), (0.15, 0.105), (0.05, 0.6),(0.35, 0.36)]\n",
    "\n",
    "Imprimir la matriz final y sus dimensiones (filas y columnas)"
   ]
  },
  {
   "cell_type": "code",
   "execution_count": 149,
   "id": "bfc17c19",
   "metadata": {},
   "outputs": [
    {
     "name": "stdout",
     "output_type": "stream",
     "text": [
      "[[0.27  0.12 ]\n",
      " [0.11  0.19 ]\n",
      " [0.145 0.06 ]]\n"
     ]
    }
   ],
   "source": [
    "muestras_rocas = [(0.27, 0.12), (0.11, 0.19), (0.145, 0.06)]\n",
    "matriz_1=np.array(muestras_rocas)\n",
    "print(matriz_1)"
   ]
  },
  {
   "cell_type": "code",
   "execution_count": 150,
   "id": "564b67a8",
   "metadata": {
    "scrolled": true
   },
   "outputs": [
    {
     "name": "stdout",
     "output_type": "stream",
     "text": [
      "[[0.27  0.12 ]\n",
      " [0.11  0.19 ]\n",
      " [0.145 0.06 ]\n",
      " [0.17  0.1  ]\n",
      " [0.15  0.105]\n",
      " [0.05  0.6  ]\n",
      " [0.35  0.36 ]]\n",
      "dimensiones de la matriz de datos (7, 2)\n"
     ]
    }
   ],
   "source": [
    "segunda_m_rocas=[(0.17, 0.10), (0.15, 0.105), (0.05, 0.6),(0.35, 0.36)]\n",
    "matriz_2=np.array(segunda_m_rocas)\n",
    "matriz_total=np.concatenate((muestras_rocas,segunda_m_rocas),axis=0)\n",
    "print(matriz_total)\n",
    "print(\"dimensiones de la matriz de datos {}\".format(matriz_total.shape))"
   ]
  },
  {
   "cell_type": "markdown",
   "id": "18e72e37",
   "metadata": {},
   "source": [
    "### Ejercicio 3\n",
    "Tomando la matriz anterior, suministrada en la celda de abajo,  imprimir los datos pedidos abajo con las funciones de *slice*:\n",
    "1. las dos primeras filas de la matriz\n",
    "2. la segunda columna de la matriz\n",
    "3. la primera columna desde la 3ra fila hasta la última"
   ]
  },
  {
   "cell_type": "code",
   "execution_count": 151,
   "id": "1944a746",
   "metadata": {},
   "outputs": [
    {
     "name": "stdout",
     "output_type": "stream",
     "text": [
      "[[0.27  0.12 ]\n",
      " [0.11  0.19 ]\n",
      " [0.145 0.06 ]\n",
      " [0.17  0.1  ]\n",
      " [0.15  0.105]\n",
      " [0.05  0.6  ]\n",
      " [0.35  0.36 ]]\n"
     ]
    }
   ],
   "source": [
    "#se deja esta celda por si hubo problemas en el ejercicio anterior\n",
    "matriz_total=np.array([[0.27,  0.12 ],\n",
    " [0.11 , 0.19 ],\n",
    " [0.145, 0.06 ],\n",
    " [0.17,  0.1  ],\n",
    " [0.15 , 0.105],\n",
    " [0.05 , 0.6  ],\n",
    " [0.35 , 0.36 ]])\n",
    "print(matriz_total)"
   ]
  },
  {
   "cell_type": "code",
   "execution_count": 152,
   "id": "e6062fc0",
   "metadata": {},
   "outputs": [
    {
     "name": "stdout",
     "output_type": "stream",
     "text": [
      "[[0.27 0.12]\n",
      " [0.11 0.19]]\n"
     ]
    }
   ],
   "source": [
    "1#\n",
    "print(matriz_total[0:2,])"
   ]
  },
  {
   "cell_type": "code",
   "execution_count": 153,
   "id": "f8a558f5",
   "metadata": {},
   "outputs": [
    {
     "name": "stdout",
     "output_type": "stream",
     "text": [
      "[0.12  0.19  0.06  0.1   0.105 0.6   0.36 ]\n"
     ]
    }
   ],
   "source": [
    "2#\n",
    "print(matriz_total[:,1])"
   ]
  },
  {
   "cell_type": "code",
   "execution_count": 154,
   "id": "c83de89e",
   "metadata": {},
   "outputs": [
    {
     "name": "stdout",
     "output_type": "stream",
     "text": [
      "[0.145 0.17  0.15  0.05  0.35 ]\n"
     ]
    }
   ],
   "source": [
    "#3\n",
    "print(matriz_total[2:,0])"
   ]
  },
  {
   "cell_type": "markdown",
   "id": "b855d3f4",
   "metadata": {},
   "source": [
    "### Ejercicio 4\n",
    "Usando la función *where* de numpy y la matriz de los dos pasos anteriores, encontrar los valores de la segunda columna (recordemos, se tratan de valores de VSH) que sean mayores 30%, es decir mayores a 0.30."
   ]
  },
  {
   "cell_type": "code",
   "execution_count": 155,
   "id": "bf541e5f",
   "metadata": {},
   "outputs": [
    {
     "data": {
      "text/plain": [
       "array([[0.6 , 0.36]])"
      ]
     },
     "execution_count": 155,
     "metadata": {},
     "output_type": "execute_result"
    }
   ],
   "source": [
    "cutoff=0.3\n",
    "index_vsh=np.where(matriz_total[:,1]>cutoff)\n",
    "matriz_total[index_vsh,1]"
   ]
  },
  {
   "cell_type": "markdown",
   "id": "370a1ef1",
   "metadata": {},
   "source": [
    "### Ejercicio 5\n",
    "Con la misma matriz_total del ejercicio anterior, imprimir los valores  de porosidad ordenándolos de menor a mayor. Recordemos que existe la función *sort* en numpy"
   ]
  },
  {
   "cell_type": "code",
   "execution_count": 156,
   "id": "6ba1fa69",
   "metadata": {},
   "outputs": [
    {
     "data": {
      "text/plain": [
       "array([0.05 , 0.11 , 0.145, 0.15 , 0.17 , 0.27 , 0.35 ])"
      ]
     },
     "execution_count": 156,
     "metadata": {},
     "output_type": "execute_result"
    }
   ],
   "source": [
    "np.sort(matriz_total[:,0])"
   ]
  },
  {
   "cell_type": "markdown",
   "id": "ea8e80cb",
   "metadata": {},
   "source": [
    "### Ejercicio 6\n",
    "Usando las funciones de numpy para generar valores aleatorios, crear los siguientes arrays:\n",
    "1. Un array de una dimension con 10 elementos extraidos de una distribución uniforme entre 0.0 y 1.0\n",
    "2. Una secuencia de longitud 10 de números enteros entre 100 y 200\n",
    "3. Calcular la media del primer arreglo\n",
    "4. Repetir punto 1, esta vez con una arreglo de 1000 (mil) valores y calcular la media y la mediana del arreglo, así como su mínimo y máximo.\n"
   ]
  },
  {
   "cell_type": "code",
   "execution_count": 158,
   "id": "fd025db0",
   "metadata": {},
   "outputs": [
    {
     "data": {
      "text/plain": [
       "array([0.40047855, 0.96912514, 0.22190375, 0.55945694, 0.27509582,\n",
       "       0.09451878, 0.2746727 , 0.57407566, 0.03694749, 0.60997497])"
      ]
     },
     "execution_count": 158,
     "metadata": {},
     "output_type": "execute_result"
    }
   ],
   "source": [
    "gen=np.random.default_rng()\n",
    "#1\n",
    "a=gen.random(10)\n",
    "a"
   ]
  },
  {
   "cell_type": "code",
   "execution_count": 159,
   "id": "4efce9b1",
   "metadata": {},
   "outputs": [
    {
     "data": {
      "text/plain": [
       "array([102, 173, 123, 171, 118, 131, 195, 104, 128, 194])"
      ]
     },
     "execution_count": 159,
     "metadata": {},
     "output_type": "execute_result"
    }
   ],
   "source": [
    "#2\n",
    "b=gen.integers(low=100,high=200,size=10)\n",
    "b"
   ]
  },
  {
   "cell_type": "code",
   "execution_count": 160,
   "id": "074ecc85",
   "metadata": {},
   "outputs": [
    {
     "name": "stdout",
     "output_type": "stream",
     "text": [
      "0.40162497727893437\n"
     ]
    }
   ],
   "source": [
    "#3\n",
    "print(a.mean())"
   ]
  },
  {
   "cell_type": "code",
   "execution_count": 161,
   "id": "51a0016f",
   "metadata": {},
   "outputs": [
    {
     "name": "stdout",
     "output_type": "stream",
     "text": [
      "0.5002457015521142\n"
     ]
    }
   ],
   "source": [
    "#4\n",
    "a=gen.random(1000)\n",
    "print(a.mean())"
   ]
  },
  {
   "cell_type": "markdown",
   "id": "3bcdc694",
   "metadata": {},
   "source": [
    "### Ejercicio OIIP\n",
    "Ejercicio de OIIP. Abrir notebook llamado modulo_4_OIIP"
   ]
  },
  {
   "cell_type": "markdown",
   "id": "72372d59",
   "metadata": {},
   "source": [
    "### Ejercicio 7\n",
    "\n",
    "Graficar dos funciones trigonométricas, seno y coseno,  en el intervalo de [0, 2pi]. \n",
    "1. Generar una variable x que cubra ese intervalo y que tenga una logitud de 100.\n",
    "2. El coseno y el seno se escriben np.cos() y np.sin() respectivamente.\n",
    "3. Una forma de distinguir los dos plots es con el color y otro con el tipo de trazo. plt.plot(x,y,marcador) donde marcador es un string que describe el tipo de trazo y el color. Por ejemplo plt.plot(x,y,'-r') generaria un plot con linea discontinua, la expresion plt.plot(x,y,'.b') con linea punteada azul y plt.plot(x,y,'k') una línea continua negra.\n",
    "\n",
    "Todo el detalle de plot lo encontramos en https://matplotlib.org/stable/api/_as_gen/matplotlib.pyplot.plot.html#matplotlib.pyplot.plot , en particular el apartado Format Strings"
   ]
  },
  {
   "cell_type": "code",
   "execution_count": 162,
   "id": "a43d1ecd",
   "metadata": {},
   "outputs": [
    {
     "data": {
      "text/plain": [
       "(100,)"
      ]
     },
     "execution_count": 162,
     "metadata": {},
     "output_type": "execute_result"
    }
   ],
   "source": [
    "#1\n",
    "x=np.linspace(0.0,2*np.pi,100,endpoint=True)\n",
    "x.shape"
   ]
  },
  {
   "cell_type": "code",
   "execution_count": 163,
   "id": "184c00b5",
   "metadata": {},
   "outputs": [],
   "source": [
    "#2\n",
    "seno=np.sin(x)\n",
    "coseno=np.cos(x)"
   ]
  },
  {
   "cell_type": "code",
   "execution_count": 164,
   "id": "bdf68225",
   "metadata": {},
   "outputs": [
    {
     "data": {
      "image/png": "[encoded data removed]",
      "text/plain": [
       "<Figure size 432x288 with 1 Axes>"
      ]
     },
     "metadata": {
      "needs_background": "light"
     },
     "output_type": "display_data"
    }
   ],
   "source": [
    "#3\n",
    "plt.plot(x,seno,'-r')\n",
    "plt.plot(x,coseno,'.b')\n",
    "plt.show()"
   ]
  },
  {
   "cell_type": "markdown",
   "id": "64433558",
   "metadata": {},
   "source": [
    "### Ejercicio 8\n",
    "Vamos a crear un gráfico tipo *scatter* con datos provenientes de un archivo .csv:\n",
    "1. Importar el dataset que viene en formato csv llamado prueba_scatter.csv y que se encuentra en la carpeta *csv* del curso. Usar la función read_csv de pandas.\n",
    "2. Crear un gráfico tipo scatter usando como **x** la columna X del dataframe y como eje **y** la llamada Y.\n",
    "3. Modificarlo y agregar un \"tercer eje\" usando la columna z como color de los puntos. Recordemos que existe un parámetro c en la función plt.scatter que controla precisamente eso.\n",
    "4. Completar el gráfico para que muestre los nombres de los ejes, un título y mostrar la barra de colores."
   ]
  },
  {
   "cell_type": "code",
   "execution_count": 165,
   "id": "df9aa3a6",
   "metadata": {},
   "outputs": [
    {
     "name": "stdout",
     "output_type": "stream",
     "text": [
      "   Unnamed: 0    x          y         z\n",
      "0           0  0.0  22.075278 -1.653062\n",
      "1           1  0.5  14.596538  0.728836\n",
      "2           2  1.0  23.664198 -0.043104\n",
      "3           3  1.5  17.964519 -0.837015\n",
      "4           4  2.0   6.254823  1.965644\n"
     ]
    }
   ],
   "source": [
    "#1\n",
    "data=pd.read_csv('../csv/prueba_scatter.csv')\n",
    "print(data.head())"
   ]
  },
  {
   "cell_type": "code",
   "execution_count": 166,
   "id": "aa957934",
   "metadata": {
    "scrolled": true
   },
   "outputs": [
    {
     "data": {
      "text/plain": [
       "<matplotlib.colorbar.Colorbar at 0x7f7da5f6b9d0>"
      ]
     },
     "execution_count": 166,
     "metadata": {},
     "output_type": "execute_result"
    },
    {
     "data": {
      "image/png": "[encoded data removed]",
      "text/plain": [
       "<Figure size 432x288 with 2 Axes>"
      ]
     },
     "metadata": {
      "needs_background": "light"
     },
     "output_type": "display_data"
    }
   ],
   "source": [
    "#2,3,4\n",
    "plt.scatter(data['x'],data['y'],c=data['z'])\n",
    "plt.xlabel('Eje X')\n",
    "plt.ylabel('Eje Y')\n",
    "plt.title('Gráfico Cruzado')\n",
    "plt.colorbar()"
   ]
  },
  {
   "cell_type": "markdown",
   "id": "6ef9b322",
   "metadata": {},
   "source": [
    "### Ejercicio 9\n",
    "Grafiquemos datos de producción acumulada. Para ello haremos lo siguiente:\n",
    "1. Cargar dato de producción mensual proveniente de Capítulo IV de la (sub?)Secretaria de Energía. Se trata de un pozo en Mendoza. El formato del archivo es binario y se llama pickle. Se puede cargar con pandas con la opción pd.read_pickle(nombre_archivo). No hace falta definir los tipos de columnas cuando se trata de archivos *pickle*.\n",
    "2. Examinar los datos ¿qué fechas cubre el dataset del pozo? ¿cuáles son los valores máximos y mínimos de producción de petróleo, gas y agua?\n",
    "3. Graficar la producción acumulada de petróleo del pozo. Como los datos del C. IV son datos de frecuencia mensual de producción en **m3/día**, para obtener datos del mes, podemos obtener la acumulada con la función cumsum() y multiplicando la columna por una constante que represente los días de un mes promedio (usemos 30.4)\n",
    "4. ¿Cómo se llama el pozo? Recordemos que la columna 'sigla' contiene el nombre largo del pozo. Agregar ese nombre al título del gráfico."
   ]
  },
  {
   "cell_type": "code",
   "execution_count": 167,
   "id": "6731171e",
   "metadata": {
    "scrolled": true
   },
   "outputs": [
    {
     "data": {
      "text/plain": [
       "Index(['Unnamed: 0', 'idempresa', 'anio', 'mes', 'idpozo', 'prod_pet',\n",
       "       'prod_gas', 'prod_agua', 'iny_agua', 'iny_gas', 'iny_co2', 'iny_otro',\n",
       "       'tef', 'vida_util', 'tipoextraccion', 'tipoestado', 'tipopozo',\n",
       "       'observaciones', 'fechaingreso', 'rectificado', 'habilitado',\n",
       "       'idusuario', 'empresa', 'sigla', 'formprod', 'profundidad', 'formacion',\n",
       "       'idareapermisoconcesion', 'areapermisoconcesion', 'idareayacimiento',\n",
       "       'areayacimiento', 'cuenca', 'provincia', 'tipo_de_recurso', 'proyecto',\n",
       "       'clasificacion', 'subclasificacion', 'sub_tipo_recurso', 'fecha_data'],\n",
       "      dtype='object')"
      ]
     },
     "execution_count": 167,
     "metadata": {},
     "output_type": "execute_result"
    }
   ],
   "source": [
    "#1\n",
    "df=pd.read_pickle('../csv/data_pozo_mza.pkl')\n",
    "df.head()\n",
    "df.columns"
   ]
  },
  {
   "cell_type": "code",
   "execution_count": 168,
   "id": "0e5df3e8",
   "metadata": {},
   "outputs": [
    {
     "name": "stdout",
     "output_type": "stream",
     "text": [
      "2015-09-30 00:00:00\n",
      "2021-12-31 00:00:00\n"
     ]
    }
   ],
   "source": [
    "#2\n",
    "print(df['fecha_data'].min())\n",
    "print(df['fecha_data'].max())"
   ]
  },
  {
   "cell_type": "code",
   "execution_count": 169,
   "id": "d65ade6c",
   "metadata": {},
   "outputs": [
    {
     "data": {
      "text/html": [
       "<div>\n",
       "<style scoped>\n",
       "    .dataframe tbody tr th:only-of-type {\n",
       "        vertical-align: middle;\n",
       "    }\n",
       "\n",
       "    .dataframe tbody tr th {\n",
       "        vertical-align: top;\n",
       "    }\n",
       "\n",
       "    .dataframe thead th {\n",
       "        text-align: right;\n",
       "    }\n",
       "</style>\n",
       "<table border=\"1\" class=\"dataframe\">\n",
       "  <thead>\n",
       "    <tr style=\"text-align: right;\">\n",
       "      <th></th>\n",
       "      <th>prod_pet</th>\n",
       "      <th>prod_gas</th>\n",
       "      <th>prod_agua</th>\n",
       "    </tr>\n",
       "  </thead>\n",
       "  <tbody>\n",
       "    <tr>\n",
       "      <th>count</th>\n",
       "      <td>76.000000</td>\n",
       "      <td>76.000000</td>\n",
       "      <td>76.000000</td>\n",
       "    </tr>\n",
       "    <tr>\n",
       "      <th>mean</th>\n",
       "      <td>1953.514013</td>\n",
       "      <td>264.894809</td>\n",
       "      <td>69.879026</td>\n",
       "    </tr>\n",
       "    <tr>\n",
       "      <th>std</th>\n",
       "      <td>2252.263226</td>\n",
       "      <td>233.226118</td>\n",
       "      <td>100.825429</td>\n",
       "    </tr>\n",
       "    <tr>\n",
       "      <th>min</th>\n",
       "      <td>0.000000</td>\n",
       "      <td>0.000000</td>\n",
       "      <td>0.000000</td>\n",
       "    </tr>\n",
       "    <tr>\n",
       "      <th>25%</th>\n",
       "      <td>176.291750</td>\n",
       "      <td>40.057640</td>\n",
       "      <td>1.677000</td>\n",
       "    </tr>\n",
       "    <tr>\n",
       "      <th>50%</th>\n",
       "      <td>458.566000</td>\n",
       "      <td>238.138490</td>\n",
       "      <td>16.499500</td>\n",
       "    </tr>\n",
       "    <tr>\n",
       "      <th>75%</th>\n",
       "      <td>4383.550000</td>\n",
       "      <td>433.580000</td>\n",
       "      <td>88.517500</td>\n",
       "    </tr>\n",
       "    <tr>\n",
       "      <th>max</th>\n",
       "      <td>7285.860000</td>\n",
       "      <td>1066.416410</td>\n",
       "      <td>363.840000</td>\n",
       "    </tr>\n",
       "  </tbody>\n",
       "</table>\n",
       "</div>"
      ],
      "text/plain": [
       "          prod_pet     prod_gas   prod_agua\n",
       "count    76.000000    76.000000   76.000000\n",
       "mean   1953.514013   264.894809   69.879026\n",
       "std    2252.263226   233.226118  100.825429\n",
       "min       0.000000     0.000000    0.000000\n",
       "25%     176.291750    40.057640    1.677000\n",
       "50%     458.566000   238.138490   16.499500\n",
       "75%    4383.550000   433.580000   88.517500\n",
       "max    7285.860000  1066.416410  363.840000"
      ]
     },
     "execution_count": 169,
     "metadata": {},
     "output_type": "execute_result"
    }
   ],
   "source": [
    "#2\n",
    "variables=['prod_pet','prod_gas','prod_agua']\n",
    "df.describe()[variables]"
   ]
  },
  {
   "cell_type": "code",
   "execution_count": 170,
   "id": "505739c8",
   "metadata": {},
   "outputs": [
    {
     "data": {
      "image/png": "[encoded data removed]",
      "text/plain": [
       "<Figure size 432x288 with 1 Axes>"
      ]
     },
     "metadata": {
      "needs_background": "light"
     },
     "output_type": "display_data"
    }
   ],
   "source": [
    "#3\n",
    "df['acum_pet']=df['prod_pet'].cumsum()*30.4\n",
    "plt.plot(df['fecha_data'],df['acum_pet'],'-g',label='Petróleo')\n",
    "plt.xlabel('Fecha (mes)')\n",
    "plt.ylabel('Prod acumulada de Petróleo en m3/dia del pozo')\n",
    "plt.title('Producción acumulada del pozo')\n",
    "plt.legend()\n",
    "plt.show()"
   ]
  },
  {
   "cell_type": "code",
   "execution_count": 171,
   "id": "9f5d22d8",
   "metadata": {},
   "outputs": [
    {
     "data": {
      "image/png": "[encoded data removed]",
      "text/plain": [
       "<Figure size 432x288 with 1 Axes>"
      ]
     },
     "metadata": {
      "needs_background": "light"
     },
     "output_type": "display_data"
    }
   ],
   "source": [
    "nombre_pozo=df['sigla'].iloc[0]\n",
    "df['acum_pet']=df['prod_pet'].cumsum()*30.4\n",
    "plt.plot(df['fecha_data'],df['acum_pet'],'-g',label='Petróleo')\n",
    "plt.xlabel('Fecha (mes)')\n",
    "plt.ylabel('Prod acumulada de Petróleo en m3/dia del pozo')\n",
    "plt.title('Producción acumulada del pozo \\n {}'.format(nombre_pozo))\n",
    "plt.legend()\n",
    "plt.show()"
   ]
  },
  {
   "cell_type": "markdown",
   "id": "48ed9c65",
   "metadata": {},
   "source": [
    "### Ejercicio 10\n",
    "Construiremos un diagrama de barras que muestre la producción de pétróleo total en 8 áreas de Mendoza. \n",
    "1. Cargar el archivo mza_barplot.pkl y asignarlo a una variable\n",
    "2. Generar un dataframe más pequeño agrupando por la columna 'areayacimiento' y usando la función *sum()* sobre la columna 'prod_pet'\n",
    "3. Usar la función plt.bar para crear un gráfico de barras donde se muestre la producción total por cada área-yacimiento en ese data-set.\n",
    "4. Repetir el gráfico, esta vez con la función *plt.barh* que permite dibujar barras horizontales. La sintaxis es similar a la de *bar*.\n",
    "5. Repetir el gráfico de barras horizontales pero esta vez con el dataframe ordenado."
   ]
  },
  {
   "cell_type": "code",
   "execution_count": 172,
   "id": "a27f1072",
   "metadata": {},
   "outputs": [],
   "source": [
    "#1\n",
    "archivo='../csv/mza_barplot.pkl'\n",
    "df_bplot=pd.read_pickle(archivo)"
   ]
  },
  {
   "cell_type": "code",
   "execution_count": 173,
   "id": "17d42017",
   "metadata": {},
   "outputs": [
    {
     "data": {
      "text/plain": [
       "areayacimiento\n",
       "ATAMISQUI                           2.717680e+05\n",
       "CERRO DIVISADERO                    1.123377e+05\n",
       "CERRO MORADO ESTE                   1.996518e+05\n",
       "CHIHUIDO DE LA SALINA CENTRO SUR    1.288745e+06\n",
       "GRAN BAJADA BLANCA                  9.624390e+04\n",
       "POZOS SIN YACIMIENTO                1.239688e+04\n",
       "PUESTO POZO CERCADO                 5.924899e+05\n",
       "REFUGIO                             1.422133e+05\n",
       "Name: prod_pet, dtype: float64"
      ]
     },
     "execution_count": 173,
     "metadata": {},
     "output_type": "execute_result"
    }
   ],
   "source": [
    "#2\n",
    "df_por_area=df_bplot.groupby(by='areayacimiento')['prod_pet'].sum()\n",
    "df_por_area"
   ]
  },
  {
   "cell_type": "code",
   "execution_count": 174,
   "id": "7c0a4b7c",
   "metadata": {},
   "outputs": [
    {
     "data": {
      "text/plain": [
       "<BarContainer object of 8 artists>"
      ]
     },
     "execution_count": 174,
     "metadata": {},
     "output_type": "execute_result"
    },
    {
     "data": {
      "image/png": "[encoded data removed]",
      "text/plain": [
       "<Figure size 432x288 with 1 Axes>"
      ]
     },
     "metadata": {
      "needs_background": "light"
     },
     "output_type": "display_data"
    }
   ],
   "source": [
    "#3\n",
    "plt.bar(df_por_area.index,df_por_area)"
   ]
  },
  {
   "cell_type": "code",
   "execution_count": 175,
   "id": "277e8e50",
   "metadata": {
    "scrolled": true
   },
   "outputs": [
    {
     "data": {
      "text/plain": [
       "Text(0.5, 0, 'producción petróleo en m3')"
      ]
     },
     "execution_count": 175,
     "metadata": {},
     "output_type": "execute_result"
    },
    {
     "data": {
      "image/png": "[encoded data removed]",
      "text/plain": [
       "<Figure size 432x288 with 1 Axes>"
      ]
     },
     "metadata": {
      "needs_background": "light"
     },
     "output_type": "display_data"
    }
   ],
   "source": [
    "#4\n",
    "plt.barh(df_por_area.index,df_por_area)\n",
    "plt.title('producción acumulada de petróleo \\n en m3  entre 2008 y 2021')\n",
    "plt.xlabel('producción petróleo en m3')"
   ]
  },
  {
   "cell_type": "code",
   "execution_count": 176,
   "id": "58b5811d",
   "metadata": {},
   "outputs": [
    {
     "data": {
      "text/plain": [
       "Text(0.5, 0, 'producción petróleo en m3')"
      ]
     },
     "execution_count": 176,
     "metadata": {},
     "output_type": "execute_result"
    },
    {
     "data": {
      "image/png": "[encoded data removed]",
      "text/plain": [
       "<Figure size 432x288 with 1 Axes>"
      ]
     },
     "metadata": {
      "needs_background": "light"
     },
     "output_type": "display_data"
    }
   ],
   "source": [
    "#5\n",
    "plt.barh(df_por_area.sort_values(ascending=False).index,df_por_area.sort_values(ascending=False))\n",
    "plt.title('producción acumulada de petróleo \\n en m3  entre 2008 y 2021')\n",
    "plt.xlabel('producción petróleo en m3')"
   ]
  },
  {
   "cell_type": "markdown",
   "id": "85b48a59",
   "metadata": {},
   "source": [
    "### Ejercicio 11 \n",
    "Retomando los datos del ejercicio anterior, practicaremos como graficar dos o más plots en la misma figura.\n",
    "1. Calcular la producción total de petróleo, gas y agua por área en el dataset proveniente del archivo \"mza_barplot.pkl\"\n",
    "2. Generar una figura con 3 subplots, donde se vea la producción acumulada de petróleo, gas y agua de las áreas del dataset. Probar en vertical y horizontal. Tip: Los parámetros sharex=True y sharey=True indican a matplotlib que los ejes x e y son compartidos, respectivamente.\n",
    "3. Colocar un título al gráfico."
   ]
  },
  {
   "cell_type": "code",
   "execution_count": 177,
   "id": "d4c5bcd7",
   "metadata": {},
   "outputs": [],
   "source": [
    "#1\n",
    "df_pet=df_bplot.groupby(by='areayacimiento')['prod_pet'].sum()\n",
    "df_gas=df_bplot.groupby(by='areayacimiento')['prod_gas'].sum()\n",
    "df_agua=df_bplot.groupby(by='areayacimiento')['prod_agua'].sum()"
   ]
  },
  {
   "cell_type": "code",
   "execution_count": 178,
   "id": "a32301bc",
   "metadata": {},
   "outputs": [
    {
     "data": {
      "image/png": "[encoded data removed]",
      "text/plain": [
       "<Figure size 595.276x283.465 with 3 Axes>"
      ]
     },
     "metadata": {
      "needs_background": "light"
     },
     "output_type": "display_data"
    }
   ],
   "source": [
    "#2,3\n",
    "#plt.figure(figsize=(10,10))\n",
    "cm = 1/2.54\n",
    "fig, axs = plt.subplots(1,3,sharex=True,sharey=True,figsize=(21*cm, 10*cm))\n",
    "axs[0].barh(df_pet.index,df_pet,color='g')\n",
    "axs[0].set_title('Petróleo')\n",
    "axs[1].barh(df_gas.index,df_gas,color='r')\n",
    "axs[1].set_title('Gas')\n",
    "axs[2].barh(df_agua.index,df_agua)\n",
    "axs[2].set_title('Agua')\n",
    "#fig.figsize=(12,12)\n",
    "fig.suptitle('Acumuladas de Petrole, Gas y Agua',fontsize=14, fontweight='bold')\n",
    "plt.show()"
   ]
  }
 ],
 "metadata": {
  "kernelspec": {
   "display_name": "Python 3 (ipykernel)",
   "language": "python",
   "name": "python3"
  },
  "language_info": {
   "codemirror_mode": {
    "name": "ipython",
    "version": 3
   },
   "file_extension": ".py",
   "mimetype": "text/x-python",
   "name": "python",
   "nbconvert_exporter": "python",
   "pygments_lexer": "ipython3",
   "version": "3.10.10"
  }
 },
 "nbformat": 4,
 "nbformat_minor": 5
}
