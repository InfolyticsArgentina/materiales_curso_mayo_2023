{
 "cells": [
  {
   "cell_type": "markdown",
   "id": "5fa0f21e",
   "metadata": {},
   "source": [
    "# Ejercicios del Módulo 4\n",
    "\n",
    "matplotlib y numpy"
   ]
  },
  {
   "cell_type": "markdown",
   "id": "c71f7e3e",
   "metadata": {},
   "source": [
    "### Ejercicio de OOIP\n",
    "Supongamos que queremos calcular un rango de valores para el petróleo original en sitio de un reservorio que estamos estudiando. Para ello podemos modelar la incerteza sobre los parámetros del reservorio como distribuciones de probabilidad. Recordemos que la expresión para el OOIP es la siguiente:\n",
    "$$OOIP=\\frac{Ah\\phi S_{oi}}{B_{oi}}$$\n",
    "\n",
    "Esta expresión permite estimar el OOIP en metros cúbicos, a condiciones de superficie. $\\phi$ es la porosidad en fracción, $S_{oi}$ la saturación de petróleo original, también en fracción, $A$ es el área en metros cuadrados y $h$ es el espesor en metros. Por último $B_{oi}$ es el factor volumétrico.\n",
    "\n",
    "Supongamos que el área y el factor volumétrico son constantes y conocidos:\n",
    "* A= 1000000 m2\n",
    "* $B_{oi}$ = 1.0\n",
    "\n",
    "Queremos estimar valores de OOIP modelando la incerteza sobre la porosidad, la saturación de petróleo y el espesor del reservorio. Supongamos que esas variables siguen las siguientes distribuciones de probabilidad:\n",
    "* Porosidad: distribución normal, con media 0.15 y std 0.03\n",
    "* Espesor: distribución normal, con media 5m y std 0.5m\n",
    "* Saturación de petróleo: distribución uniforme entre 0.1 y 0.4\n",
    "\n",
    "Estimemos la incerteza en OOIP siguiendo los siguientes pasos:\n",
    "\n",
    "\n",
    "1. Generar 10000 (diez mil) muestras de esas 3 variables y calcular otros tantos valores de OOIP usando la expresión de arriba.\n",
    "2. Calcular la media y el desvio estándar del OOIP.\n",
    "3. Verificar los valores mínimos y máximos ¿hay algún problema?\n",
    "4. Usando la función *clip* corregir los valores de porosidad y espesor fuera de rangos razonables.\n",
    "5. Recalcular la media y el desvio estándar \n",
    "6. Graficar el histograma.\n",
    "7. Graficar la probabilidad acumulada ¿Cuáles son los valores p10, p50 y p90?"
   ]
  },
  {
   "cell_type": "markdown",
   "id": "06004c8a",
   "metadata": {},
   "source": [
    "## Datos"
   ]
  },
  {
   "cell_type": "code",
   "execution_count": 55,
   "id": "edfd6e6f",
   "metadata": {},
   "outputs": [],
   "source": [
    "#imports siempre primero\n",
    "import numpy as np\n",
    "import matplotlib.pyplot as plt"
   ]
  },
  {
   "cell_type": "code",
   "execution_count": 56,
   "id": "63cf7fae",
   "metadata": {},
   "outputs": [],
   "source": [
    "gen=np.random.default_rng(seed=1)\n",
    "A=1000000.0\n",
    "Bo=1.0\n",
    "N=10000"
   ]
  },
  {
   "cell_type": "code",
   "execution_count": 57,
   "id": "783c4050",
   "metadata": {},
   "outputs": [],
   "source": [
    "#1\n",
    "#Porosidad\n",
    "poro=gen.normal(loc=0.15,scale=0.05,size=N)\n",
    "#Espesor\n",
    "h=gen.normal(loc=5.0,scale=0.5,size=N)\n",
    "#Saturacion\n",
    "So=(0.4-0.1)*gen.random(size=N)+0.1\n",
    "OOIP=A*h*poro*So/Bo"
   ]
  },
  {
   "cell_type": "code",
   "execution_count": 58,
   "id": "cd423bcc",
   "metadata": {},
   "outputs": [
    {
     "name": "stdout",
     "output_type": "stream",
     "text": [
      "Valor medio de OOIP en metros cubicos 186493.6\n",
      "Desvio estándar de OOIP en metros cubicos 94579.7\n"
     ]
    }
   ],
   "source": [
    "#2\n",
    "print('Valor medio de OOIP en metros cubicos {}'.format(np.around(OOIP.mean(),1)))\n",
    "print('Desvio estándar de OOIP en metros cubicos {}'.format(np.around(OOIP.std(),1)))"
   ]
  },
  {
   "cell_type": "code",
   "execution_count": 59,
   "id": "99f79caf",
   "metadata": {},
   "outputs": [
    {
     "name": "stdout",
     "output_type": "stream",
     "text": [
      "OOIP mínimo: -40096.825240122635\n",
      "OOIP máximo: 642101.9339856049\n"
     ]
    }
   ],
   "source": [
    "#3\n",
    "print('OOIP mínimo: {}'.format(OOIP.min()))\n",
    "print('OOIP máximo: {}'.format(OOIP.max()))"
   ]
  },
  {
   "cell_type": "code",
   "execution_count": 60,
   "id": "bdbb984c",
   "metadata": {},
   "outputs": [],
   "source": [
    "#4\n",
    "poro=np.clip(poro,0.0,1.0)\n",
    "h=np.clip(h,0.0,20.0)"
   ]
  },
  {
   "cell_type": "code",
   "execution_count": 61,
   "id": "576e02ec",
   "metadata": {},
   "outputs": [
    {
     "name": "stdout",
     "output_type": "stream",
     "text": [
      "Valor medio de OOIP en metros cúbicos 186514.7\n",
      "Desvio estándar de OOIP en metros cúbicos 94535.3\n"
     ]
    }
   ],
   "source": [
    "#5\n",
    "OOIP=A*h*poro*So/Bo\n",
    "print('Valor medio de OOIP en metros cúbicos {}'.format(np.around(OOIP.mean(),1)))\n",
    "print('Desvio estándar de OOIP en metros cúbicos {}'.format(np.around(OOIP.std(),1)))"
   ]
  },
  {
   "cell_type": "markdown",
   "id": "cca41898",
   "metadata": {},
   "source": [
    "## Gráficos con matplotlib"
   ]
  },
  {
   "cell_type": "code",
   "execution_count": 62,
   "id": "e3d590a2",
   "metadata": {},
   "outputs": [
    {
     "data": {
      "image/png": "[encoded data removed]",
      "text/plain": [
       "<Figure size 432x288 with 1 Axes>"
      ]
     },
     "metadata": {
      "needs_background": "light"
     },
     "output_type": "display_data"
    }
   ],
   "source": [
    "plt.hist(OOIP,bins=100)\n",
    "plt.show()"
   ]
  },
  {
   "cell_type": "code",
   "execution_count": 63,
   "id": "ef5166cb",
   "metadata": {},
   "outputs": [
    {
     "data": {
      "image/png": "[encoded data removed]",
      "text/plain": [
       "<Figure size 432x288 with 1 Axes>"
      ]
     },
     "metadata": {
      "needs_background": "light"
     },
     "output_type": "display_data"
    }
   ],
   "source": [
    "hx, hy, _ = plt.hist(OOIP, bins=100,density=True,cumulative=True,histtype='step')\n",
    "plt.xlabel('OOIP m3')\n",
    "plt.ylabel('Probabilidad acumulada')\n",
    "plt.show()\n",
    "#dx = hy[1] - hy[0]\n",
    "#F1 = np.cumsum(hx)*dx\n",
    "#plt.plot(hy[1:], F1)"
   ]
  },
  {
   "cell_type": "code",
   "execution_count": 64,
   "id": "b60cf99f",
   "metadata": {},
   "outputs": [],
   "source": [
    "#5\n",
    "#hy donde el valor está por encima de 0.10 (p90 petrolero)\n",
    "hy_p10=np.min(np.where(hx>=0.1))\n",
    "p90=hy[hy_p10+1]"
   ]
  },
  {
   "cell_type": "code",
   "execution_count": 65,
   "id": "f466231b",
   "metadata": {},
   "outputs": [],
   "source": [
    "#hy donde el valor está por encima de 0.50 (p50 petrolero)\n",
    "hy_p50=np.min(np.where(hx>=0.5))\n",
    "p50=hy[hy_p50+1]"
   ]
  },
  {
   "cell_type": "code",
   "execution_count": 66,
   "id": "6d917024",
   "metadata": {},
   "outputs": [],
   "source": [
    "#hy donde el valor está por encima de 0.90 (p10 petrolero)\n",
    "hy_p90=np.min(np.where(hx>=0.9))\n",
    "p10=hy[hy_p90+1]"
   ]
  },
  {
   "cell_type": "code",
   "execution_count": 67,
   "id": "7a82c1ac",
   "metadata": {},
   "outputs": [
    {
     "data": {
      "image/png": "[encoded data removed]",
      "text/plain": [
       "<Figure size 432x288 with 1 Axes>"
      ]
     },
     "metadata": {
      "needs_background": "light"
     },
     "output_type": "display_data"
    }
   ],
   "source": [
    "hx, hy, _ = plt.hist(OOIP, bins=100,density=True,cumulative=True,histtype='step')\n",
    "plt.xlabel('OOIP m3')\n",
    "plt.ylabel('Probabilidad acumulada')\n",
    "plt.vlines(p10,0.0,1.0,color='r',linestyles='dotted')\n",
    "plt.vlines(p50,0.0,1.0,color='g',linestyles='dotted')\n",
    "plt.vlines(p90,0.0,1.0,color='k',linestyles='dotted')\n",
    "plt.show()"
   ]
  }
 ],
 "metadata": {
  "kernelspec": {
   "display_name": "Python 3 (ipykernel)",
   "language": "python",
   "name": "python3"
  },
  "language_info": {
   "codemirror_mode": {
    "name": "ipython",
    "version": 3
   },
   "file_extension": ".py",
   "mimetype": "text/x-python",
   "name": "python",
   "nbconvert_exporter": "python",
   "pygments_lexer": "ipython3",
   "version": "3.10.10"
  }
 },
 "nbformat": 4,
 "nbformat_minor": 5
}
