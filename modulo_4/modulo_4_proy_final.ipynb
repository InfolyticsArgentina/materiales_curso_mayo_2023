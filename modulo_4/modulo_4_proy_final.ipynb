{
 "cells": [
  {
   "cell_type": "markdown",
   "id": "eec28e4d-a4ae-425e-991c-0eb125adda5b",
   "metadata": {},
   "source": [
    "# Módulo 4 proyecto final"
   ]
  },
  {
   "cell_type": "markdown",
   "id": "d138a532-dda9-4237-b91a-1bfe138d366c",
   "metadata": {},
   "source": [
    "### Preguntas que podriamos plantearnos:\n",
    "\n",
    "1. ¿Cuántas compañías hay en el dataset?\n",
    "2. ¿Cuántas áreas de yacimientos hay? ¿a cuáles compañías pertenecen?\n",
    "3. ¿Hay datos de inyección de agua u otro fluído?\n",
    "4. ¿Cuál es el tipo de extracción más utilizado y el menos frecuente?\n",
    "5. ¿A principio del 2010 cual es el metodo de extracción más frecuente?\n",
    "6. ¿A principio del 2020 cual es el metodo de extracción más frecuente?\n",
    "7. ¿A principio del 2020 cual es el método de extracción con mayor producción de petroleo?\n",
    "8. ¿Qué formación aporta la mayoría del petróleo?¿y cuál la del gas?\n",
    "9. ¿Cuáles son las tres compañias que produjeron más petróleo y cuáles gas?¿son las mismas?\n",
    "10. ¿Cuál compañia tiene mas pozos y cual tiene menos?\n",
    "11. ¿Cuántos pozos tienen producción hasta 2022?\n",
    "12. ¿Cuántos pozos no están en producción en el último mes del dataset?\n",
    "13. De los pozos con mayor producción de cada área, graficar la producción acumulada de petróleo y la de gas. Graficar el corte de agua (fracción de agua sobre el total de líquidos).\n",
    "14. ¿Qué pozo del área de Barrancas se encuentra mas al norte y cuál más al sur?\n",
    "15. ¿Cuál es la distancia media entre pozos de cada area yacimiento?\n",
    "16. ¿Cuál pozo vio el mayor incremento de producción de petróleo mes a mes?\n",
    "17. ¿Existe alguna relación entre producción acumulada de petróleo a un año y la profundidad del pozo? \n",
    "\n",
    "El dataset fue generado a partir de las producciones de los pozos publicadas en el sitio de la Secretaría de Energía para los años 2006 y 2022 (diciembre). Se filtraron los pozos que pertenecen a la cuenca Cuyana y se generaron 2 tablas-dataframes que se exportaron en formatos csv.\n",
    "\n",
    "Sitio de los datos: http://datos.energia.gob.ar/"
   ]
  },
  {
   "cell_type": "code",
   "execution_count": 37,
   "id": "8009f3fd-18d9-4718-807a-9fe61854e154",
   "metadata": {
    "tags": []
   },
   "outputs": [],
   "source": [
    "#imports siempre primero\n",
    "import numpy as np\n",
    "import pandas as pd\n",
    "import matplotlib.pyplot as plt\n",
    "import seaborn as sns\n",
    "import pathlib"
   ]
  },
  {
   "cell_type": "code",
   "execution_count": 38,
   "id": "c683c4ba-10ae-45af-a4d7-c83b4ea039e8",
   "metadata": {},
   "outputs": [],
   "source": [
    "path_datos=r\"..\\csv\\proyecto_final\""
   ]
  },
  {
   "cell_type": "code",
   "execution_count": 39,
   "id": "fe3e8dcc-9bab-4989-961b-742424a129f2",
   "metadata": {
    "tags": []
   },
   "outputs": [],
   "source": [
    "path_datos_pl=pathlib.Path(path_pkl)\n",
    "lista_archivos_datos=list(path_datos_pl.iterdir())"
   ]
  },
  {
   "cell_type": "code",
   "execution_count": 40,
   "id": "ef9f3953-0d30-4cbc-ad5c-aeaa92e2a934",
   "metadata": {
    "tags": []
   },
   "outputs": [
    {
     "data": {
      "text/plain": [
       "[WindowsPath('../csv/proyecto_final/cuyana_2006_2022.csv'),\n",
       " WindowsPath('../csv/proyecto_final/df_cuyana_coordenadas.csv')]"
      ]
     },
     "execution_count": 40,
     "metadata": {},
     "output_type": "execute_result"
    }
   ],
   "source": [
    "lista_archivos_datos"
   ]
  },
  {
   "cell_type": "markdown",
   "id": "91a654c2-b843-430d-a503-c565183aa64f",
   "metadata": {},
   "source": [
    "### Carga de datos\n",
    "Carga de csv en dataframes de pandas\n",
    "* https://pandas.pydata.org/docs/reference/api/pandas.read_csv.html?highlight=read_csv#pandas.read_csv\n",
    "* https://pandas.pydata.org/docs/user_guide/io.html#io-read-csv-table"
   ]
  },
  {
   "cell_type": "code",
   "execution_count": 41,
   "id": "6731171e",
   "metadata": {
    "scrolled": true,
    "tags": []
   },
   "outputs": [
    {
     "name": "stderr",
     "output_type": "stream",
     "text": [
      "C:\\Users\\mochi\\AppData\\Local\\Temp\\ipykernel_4488\\4244424648.py:2: DtypeWarning: Columns (16,34,35) have mixed types. Specify dtype option on import or set low_memory=False.\n",
      "  df_produccion=pd.read_csv(lista_archivos_datos[0].as_posix())\n"
     ]
    }
   ],
   "source": [
    "# Carga de los dataframes\n",
    "df_produccion=pd.read_csv(lista_archivos_datos[0].as_posix())\n",
    "df_coordenadas=pd.read_csv(lista_archivos_datos[1].as_posix())"
   ]
  },
  {
   "cell_type": "code",
   "execution_count": 49,
   "id": "4bdaeb4f-f8cf-4628-881b-ff885ad73196",
   "metadata": {
    "tags": []
   },
   "outputs": [
    {
     "name": "stdout",
     "output_type": "stream",
     "text": [
      "datos de producción: \n",
      "filas 663385 columnas 38\n"
     ]
    }
   ],
   "source": [
    "print(\"datos de producción: \\nfilas {} columnas {}\".format(*df_produccion.shape))"
   ]
  },
  {
   "cell_type": "code",
   "execution_count": null,
   "id": "80cdf970-9df3-4a2b-a204-01f1bec33401",
   "metadata": {},
   "outputs": [],
   "source": []
  }
 ],
 "metadata": {
  "kernelspec": {
   "display_name": "Python 3 (ipykernel)",
   "language": "python",
   "name": "python3"
  },
  "language_info": {
   "codemirror_mode": {
    "name": "ipython",
    "version": 3
   },
   "file_extension": ".py",
   "mimetype": "text/x-python",
   "name": "python",
   "nbconvert_exporter": "python",
   "pygments_lexer": "ipython3",
   "version": "3.10.10"
  }
 },
 "nbformat": 4,
 "nbformat_minor": 5
}
