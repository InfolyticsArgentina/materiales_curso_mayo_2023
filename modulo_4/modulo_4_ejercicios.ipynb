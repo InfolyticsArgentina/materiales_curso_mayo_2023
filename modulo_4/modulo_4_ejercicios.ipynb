{
 "cells": [
  {
   "cell_type": "markdown",
   "id": "578d6139",
   "metadata": {},
   "source": [
    "# Ejercicios del Módulo 4\n",
    "\n",
    "matplotlib y numpy"
   ]
  },
  {
   "cell_type": "code",
   "execution_count": 44,
   "id": "43019fa4",
   "metadata": {},
   "outputs": [],
   "source": [
    "#imports siempre primero\n",
    "import numpy as np\n",
    "import pandas as pd\n",
    "import matplotlib.pyplot as plt"
   ]
  },
  {
   "cell_type": "markdown",
   "id": "15fd2d33",
   "metadata": {},
   "source": [
    "### Ejercicio 1\n",
    "Crear los siguientes arrays usando las funciones predefinidas de numpy (arange, linspace, etc)\n",
    "1. Un arreglo con la lista de números a=[0.0,1.1,2.4,5.8,8.9]\n",
    "2. Un arreglo lleno de ceros con dos filas y dos columnas\n",
    "3. Un arreglo lleno de unos con dos filas y dos columnas\n",
    "4. un arreglo de números enteros desde el 0 al 100, inclusive\n",
    "5. un arreglo con los números pares del 2 al 22\n",
    "6. un arreglo de números que empiece en 0.0 y que con intervalos de 0.25 llegue a 10.0 inclusive\n",
    "7. una matriz identidad de dimensiones 3x3\n",
    "8. Un pozo de petróleo tiene una producción inicial de 100 m3/dia. Cada mes su produccion decae al 90% del mes anterior. Hacer un array con numpy que muestre la progresión de la producción hasta llegar a 1m3/dia ¿en qué mes se llega por debajo de 5m3/dia?\n"
   ]
  },
  {
   "cell_type": "code",
   "execution_count": 45,
   "id": "2de4d637",
   "metadata": {},
   "outputs": [],
   "source": [
    "#1\n",
    "a=[0.0,1.1,2.4,5.8,8.9]"
   ]
  },
  {
   "cell_type": "code",
   "execution_count": 46,
   "id": "fbb9a54b",
   "metadata": {},
   "outputs": [],
   "source": [
    "#2 ceros 2x2\n",
    "b=None"
   ]
  },
  {
   "cell_type": "code",
   "execution_count": 47,
   "id": "ece4e24f",
   "metadata": {},
   "outputs": [],
   "source": [
    "#3 unos 2x2\n",
    "c=None"
   ]
  },
  {
   "cell_type": "code",
   "execution_count": 48,
   "id": "e02c4322",
   "metadata": {},
   "outputs": [],
   "source": [
    "#4\n",
    "centenar=None"
   ]
  },
  {
   "cell_type": "code",
   "execution_count": 49,
   "id": "8488e980",
   "metadata": {},
   "outputs": [],
   "source": [
    "#5\n",
    "pares_2_22=None"
   ]
  },
  {
   "cell_type": "code",
   "execution_count": 50,
   "id": "ac48be21",
   "metadata": {},
   "outputs": [],
   "source": [
    "#6\n",
    "eje_x=None"
   ]
  },
  {
   "cell_type": "code",
   "execution_count": 51,
   "id": "108f4360",
   "metadata": {},
   "outputs": [],
   "source": [
    "#7\n",
    "identidad_3x3=None"
   ]
  },
  {
   "cell_type": "code",
   "execution_count": 52,
   "id": "cadb0dfe",
   "metadata": {},
   "outputs": [],
   "source": [
    "#8 Una forma de hacerlo... (ver vectorizacion en numpy)\n",
    "lista=[]\n",
    "p0=100"
   ]
  },
  {
   "cell_type": "markdown",
   "id": "2fbb0bc6",
   "metadata": {},
   "source": [
    "### Ejercicio 2\n",
    "Retomar el dato del módulo 2 ejercicio 6 y crear una matriz con esa lista. Recordemos que el primer número representa la porosidad (fracción) de una muestra de roca y el segundo su porcentaje de arcilla (en fracción).\n",
    ">muestras_rocas = [(0.27, 0.12), (0.11, 0.19), (0.145, 0.06)]\n",
    "\n",
    "Una vez creado, usar la segunda lista y unir las dos matrices de datos como filas (es decir una encima de la otra):\n",
    ">segunda_m_rocas=[(0.17, 0.10), (0.15, 0.105), (0.05, 0.6),(0.35, 0.36)]\n",
    "\n",
    "Imprimir la matriz final y sus dimensiones (filas y columnas)"
   ]
  },
  {
   "cell_type": "code",
   "execution_count": 53,
   "id": "bfc17c19",
   "metadata": {},
   "outputs": [],
   "source": [
    "muestras_rocas = None\n",
    "segunda_m_rocas=None"
   ]
  },
  {
   "cell_type": "markdown",
   "id": "18e72e37",
   "metadata": {},
   "source": [
    "### Ejercicio 3\n",
    "Tomando la matriz anterior, suministrada en la celda de abajo,  imprimir los datos pedidos abajo con las funciones de *slice*:\n",
    "1. las dos primeras filas de la matriz\n",
    "2. la segunda columna de la matriz\n",
    "3. la primera columna desde la 3ra fila hasta la última"
   ]
  },
  {
   "cell_type": "code",
   "execution_count": 54,
   "id": "1944a746",
   "metadata": {},
   "outputs": [
    {
     "name": "stdout",
     "output_type": "stream",
     "text": [
      "[[0.27  0.12 ]\n",
      " [0.11  0.19 ]\n",
      " [0.145 0.06 ]\n",
      " [0.17  0.1  ]\n",
      " [0.15  0.105]\n",
      " [0.05  0.6  ]\n",
      " [0.35  0.36 ]]\n"
     ]
    }
   ],
   "source": [
    "#se deja esta celda por si hubo problemas en el ejercicio anterior\n",
    "matriz_total=np.array([[0.27,  0.12 ],\n",
    " [0.11 , 0.19 ],\n",
    " [0.145, 0.06 ],\n",
    " [0.17,  0.1  ],\n",
    " [0.15 , 0.105],\n",
    " [0.05 , 0.6  ],\n",
    " [0.35 , 0.36 ]])\n",
    "print(matriz_total)"
   ]
  },
  {
   "cell_type": "code",
   "execution_count": 55,
   "id": "e6062fc0",
   "metadata": {},
   "outputs": [],
   "source": [
    "#1\n"
   ]
  },
  {
   "cell_type": "code",
   "execution_count": 56,
   "id": "f8a558f5",
   "metadata": {},
   "outputs": [],
   "source": [
    "#2\n"
   ]
  },
  {
   "cell_type": "code",
   "execution_count": 57,
   "id": "c83de89e",
   "metadata": {},
   "outputs": [],
   "source": [
    "#3"
   ]
  },
  {
   "cell_type": "markdown",
   "id": "b855d3f4",
   "metadata": {},
   "source": [
    "### Ejercicio 4\n",
    "Usando la función *where* de numpy y la matriz de los dos pasos anteriores, encontrar los valores de la segunda columna (recordemos, se tratan de valores de VSH) que sean mayores 30%, es decir mayores a 0.30."
   ]
  },
  {
   "cell_type": "code",
   "execution_count": null,
   "id": "bf541e5f",
   "metadata": {},
   "outputs": [],
   "source": []
  },
  {
   "cell_type": "markdown",
   "id": "370a1ef1",
   "metadata": {},
   "source": [
    "### Ejercicio 5\n",
    "Con la misma matriz_total del ejercicio anterior, imprimir los valores  de porosidad ordenándolos de menor a mayor. Recordemos que existe la función *sort* en numpy"
   ]
  },
  {
   "cell_type": "code",
   "execution_count": null,
   "id": "6ba1fa69",
   "metadata": {},
   "outputs": [],
   "source": []
  },
  {
   "cell_type": "markdown",
   "id": "ea8e80cb",
   "metadata": {},
   "source": [
    "### Ejercicio 6\n",
    "Usando las funciones de numpy para generar valores aleatorios, crear los siguientes arrays:\n",
    "1. Un array de una dimension con 10 elementos extraidos de una distribución uniforme entre 0.0 y 1.0\n",
    "2. Una secuencia de longitud 10 de números enteros entre 100 y 200\n",
    "3. Calcular la media del primer arreglo\n",
    "4. Repetir punto 1, esta vez con una arreglo de 1000 (mil) valores y calcular la media y la mediana del arreglo, así como su mínimo y máximo.\n"
   ]
  },
  {
   "cell_type": "code",
   "execution_count": 58,
   "id": "fd025db0",
   "metadata": {},
   "outputs": [],
   "source": [
    "gen=np.random.default_rng()\n",
    "#1\n",
    "a=None"
   ]
  },
  {
   "cell_type": "code",
   "execution_count": 59,
   "id": "4efce9b1",
   "metadata": {},
   "outputs": [],
   "source": [
    "#2\n",
    "b=None"
   ]
  },
  {
   "cell_type": "code",
   "execution_count": 60,
   "id": "074ecc85",
   "metadata": {},
   "outputs": [],
   "source": [
    "#3\n"
   ]
  },
  {
   "cell_type": "code",
   "execution_count": 61,
   "id": "51a0016f",
   "metadata": {},
   "outputs": [],
   "source": [
    "#4\n",
    "a=None"
   ]
  },
  {
   "cell_type": "markdown",
   "id": "3bcdc694",
   "metadata": {},
   "source": [
    "### Ejercicio OIIP\n",
    "Ejercicio de OIIP. Abrir notebook llamado modulo_4_OIIP"
   ]
  },
  {
   "cell_type": "markdown",
   "id": "72372d59",
   "metadata": {},
   "source": [
    "### Ejercicio 7\n",
    "\n",
    "Graficar dos funciones trigonométricas, seno y coseno,  en el intervalo de [0, 2pi]. \n",
    "1. Generar una variable x que cubra ese intervalo y que tenga una logitud de 100.\n",
    "2. El coseno y el seno se escriben np.cos() y np.sin() respectivamente.\n",
    "3. Una forma de distinguir los dos plots es con el color y otro con el tipo de trazo. plt.plot(x,y,marcador) donde marcador es un string que describe el tipo de trazo y el color. Por ejemplo plt.plot(x,y,'-r') generaria un plot con linea discontinua, la expresion plt.plot(x,y,'.b') con linea punteada azul y plt.plot(x,y,'k') una línea continua negra.\n",
    "\n",
    "Todo el detalle de plot lo encontramos en https://matplotlib.org/stable/api/_as_gen/matplotlib.pyplot.plot.html#matplotlib.pyplot.plot , en particular el apartado Format Strings"
   ]
  },
  {
   "cell_type": "code",
   "execution_count": 62,
   "id": "a43d1ecd",
   "metadata": {},
   "outputs": [],
   "source": [
    "#1\n"
   ]
  },
  {
   "cell_type": "code",
   "execution_count": 63,
   "id": "184c00b5",
   "metadata": {},
   "outputs": [],
   "source": [
    "#2\n"
   ]
  },
  {
   "cell_type": "code",
   "execution_count": 64,
   "id": "bdf68225",
   "metadata": {},
   "outputs": [],
   "source": [
    "#3\n"
   ]
  },
  {
   "cell_type": "markdown",
   "id": "64433558",
   "metadata": {},
   "source": [
    "### Ejercicio 8\n",
    "Vamos a crear un gráfico tipo *scatter* con datos provenientes de un archivo .csv:\n",
    "1. Importar el dataset que viene en formato csv llamado prueba_scatter.csv y que se encuentra en la carpeta *csv* del curso. Usar la función read_csv de pandas.\n",
    "2. Crear un gráfico tipo scatter usando como **x** la columna X del dataframe y como eje **y** la llamada Y.\n",
    "3. Modificarlo y agregar un \"tercer eje\" usando la columna z como color de los puntos. Recordemos que existe un parámetro c en la función plt.scatter que controla precisamente eso.\n",
    "4. Completar el gráfico para que muestre los nombres de los ejes, un título y mostrar la barra de colores."
   ]
  },
  {
   "cell_type": "code",
   "execution_count": 65,
   "id": "df9aa3a6",
   "metadata": {},
   "outputs": [],
   "source": [
    "#1\n",
    "ruta='../csv/prueba_scatter.csv'"
   ]
  },
  {
   "cell_type": "code",
   "execution_count": 66,
   "id": "aa957934",
   "metadata": {
    "scrolled": true
   },
   "outputs": [],
   "source": [
    "#2,3,4"
   ]
  },
  {
   "cell_type": "markdown",
   "id": "6ef9b322",
   "metadata": {},
   "source": [
    "### Ejercicio 9\n",
    "Grafiquemos datos de producción acumulada. Para ello haremos lo siguiente:\n",
    "1. Cargar dato de producción mensual proveniente de Capítulo IV de la (sub?)Secretaria de Energía. Se trata de un pozo en Mendoza. El formato del archivo es binario y se llama pickle. Se puede cargar con pandas con la opción pd.read_pickle(nombre_archivo). No hace falta definir los tipos de columnas cuando se trata de archivos *pickle*.\n",
    "2. Examinar los datos ¿qué fechas cubre el dataset del pozo? ¿cuáles son los valores máximos y mínimos de producción de petróleo, gas y agua?\n",
    "3. Graficar la producción acumulada de petróleo del pozo. Como los datos del C. IV son datos de frecuencia mensual de producción en **m3/día**, para obtener datos del mes, podemos obtener la acumulada con la función cumsum() y multiplicando la columna por una constante que represente los días de un mes promedio (usemos 30.4)\n",
    "4. ¿Cómo se llama el pozo? Recordemos que la columna 'sigla' contiene el nombre largo del pozo. Agregar ese nombre al título del gráfico."
   ]
  },
  {
   "cell_type": "code",
   "execution_count": 67,
   "id": "6731171e",
   "metadata": {
    "scrolled": true
   },
   "outputs": [],
   "source": [
    "#1\n",
    "ruta_pkl='../csv/data_pozo_mza.pkl'"
   ]
  },
  {
   "cell_type": "code",
   "execution_count": 68,
   "id": "0e5df3e8",
   "metadata": {},
   "outputs": [],
   "source": [
    "#2\n"
   ]
  },
  {
   "cell_type": "code",
   "execution_count": 69,
   "id": "d65ade6c",
   "metadata": {
    "scrolled": false
   },
   "outputs": [],
   "source": [
    "#2\n"
   ]
  },
  {
   "cell_type": "code",
   "execution_count": 70,
   "id": "505739c8",
   "metadata": {},
   "outputs": [],
   "source": [
    "#3\n"
   ]
  },
  {
   "cell_type": "code",
   "execution_count": 71,
   "id": "9f5d22d8",
   "metadata": {},
   "outputs": [],
   "source": [
    "#4"
   ]
  },
  {
   "cell_type": "markdown",
   "id": "48ed9c65",
   "metadata": {},
   "source": [
    "### Ejercicio 10\n",
    "Construiremos un diagrama de barras que muestre la producción de pétróleo total en 8 áreas de Mendoza. \n",
    "1. Cargar el archivo mza_barplot.pkl y asignarlo a una variable\n",
    "2. Generar un dataframe más pequeño agrupando por la columna 'areayacimiento' y usando la función *sum()* sobre la columna 'prod_pet'\n",
    "3. Usar la función plt.bar para crear un gráfico de barras donde se muestre la producción total por cada área-yacimiento en ese data-set.\n",
    "4. Repetir el gráfico, esta vez con la función *plt.barh* que permite dibujar barras horizontales. La sintaxis es similar a la de *bar*.\n",
    "5. Repetir el gráfico de barras horizontales pero esta vez con el dataframe ordenado."
   ]
  },
  {
   "cell_type": "code",
   "execution_count": 72,
   "id": "a27f1072",
   "metadata": {},
   "outputs": [],
   "source": [
    "#1\n",
    "archivo='../csv/mza_barplot.pkl'"
   ]
  },
  {
   "cell_type": "code",
   "execution_count": 73,
   "id": "17d42017",
   "metadata": {},
   "outputs": [],
   "source": [
    "#2"
   ]
  },
  {
   "cell_type": "code",
   "execution_count": 74,
   "id": "7c0a4b7c",
   "metadata": {},
   "outputs": [],
   "source": [
    "#3"
   ]
  },
  {
   "cell_type": "code",
   "execution_count": 75,
   "id": "277e8e50",
   "metadata": {
    "scrolled": true
   },
   "outputs": [],
   "source": [
    "#4"
   ]
  },
  {
   "cell_type": "code",
   "execution_count": 76,
   "id": "58b5811d",
   "metadata": {},
   "outputs": [],
   "source": [
    "#5"
   ]
  },
  {
   "cell_type": "markdown",
   "id": "85b48a59",
   "metadata": {},
   "source": [
    "### Ejercicio 11 \n",
    "Retomando los datos del ejercicio anterior, practicaremos como graficar dos o más plots en la misma figura.\n",
    "1. Calcular la producción total de petróleo, gas y agua por área en el dataset proveniente del archivo \"mza_barplot.pkl\"\n",
    "2. Generar una figura con 3 subplots, donde se vea la producción acumulada de petróleo, gas y agua de las áreas del dataset. Probar en vertical y horizontal. Tip: Los parámetros sharex=True y sharey=True indican a matplotlib que los ejes x e y son compartidos, respectivamente.\n",
    "3. Colocar un título al gráfico."
   ]
  },
  {
   "cell_type": "code",
   "execution_count": 77,
   "id": "d4c5bcd7",
   "metadata": {},
   "outputs": [],
   "source": [
    "#1\n",
    "#archivo='../csv/mza_barplot.pkl'\n",
    "df_pet=None\n",
    "df_gas=None\n",
    "df_agua=None"
   ]
  },
  {
   "cell_type": "code",
   "execution_count": 78,
   "id": "a32301bc",
   "metadata": {},
   "outputs": [],
   "source": [
    "#2,3\n"
   ]
  },
  {
   "cell_type": "code",
   "execution_count": null,
   "id": "4f01051f",
   "metadata": {},
   "outputs": [],
   "source": []
  }
 ],
 "metadata": {
  "kernelspec": {
   "display_name": "Python 3 (ipykernel)",
   "language": "python",
   "name": "python3"
  },
  "language_info": {
   "codemirror_mode": {
    "name": "ipython",
    "version": 3
   },
   "file_extension": ".py",
   "mimetype": "text/x-python",
   "name": "python",
   "nbconvert_exporter": "python",
   "pygments_lexer": "ipython3",
   "version": "3.9.7"
  }
 },
 "nbformat": 4,
 "nbformat_minor": 5
}
