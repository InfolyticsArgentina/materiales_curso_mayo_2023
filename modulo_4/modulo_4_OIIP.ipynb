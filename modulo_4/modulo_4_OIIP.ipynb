{
 "cells": [
  {
   "cell_type": "markdown",
   "id": "5fa0f21e",
   "metadata": {},
   "source": [
    "# Ejercicios del Módulo 4\n",
    "\n",
    "matplotlib y numpy"
   ]
  },
  {
   "cell_type": "markdown",
   "id": "c71f7e3e",
   "metadata": {},
   "source": [
    "### Ejercicio de OOIP\n",
    "Supongamos que queremos calcular un rango de valores para el petróleo original en sitio de un reservorio que estamos estudiando. Para ello podemos modelar la incerteza sobre los parámetros del reservorio como distribuciones de probabilidad. Recordemos que la expresión para el OOIP es la siguiente:\n",
    "$$OOIP=\\frac{Ah\\phi S_{oi}}{B_{oi}}$$\n",
    "\n",
    "Esta expresión permite estimar el OOIP en metros cúbicos, a condiciones de superficie. $\\phi$ es la porosidad en fracción, $S_{oi}$ la saturación de petróleo original, también en fracción, $A$ es el área en metros cuadrados y $h$ es el espesor en metros. Por último $B_{oi}$ es el factor volumétrico.\n",
    "\n",
    "Supongamos que el área y el factor volumétrico son constantes y conocidos:\n",
    "* A= 1000000 m2\n",
    "* $B_{oi}$ = 1.0\n",
    "\n",
    "Queremos estimar valores de OOIP modelando la incerteza sobre la porosidad, la saturación de petróleo y el espesor del reservorio. Supongamos que esas variables siguen las siguientes distribuciones de probabilidad:\n",
    "* Porosidad: distribución normal, con media 0.15 y std 0.03\n",
    "* Espesor: distribución normal, con media 5m y std 0.5m\n",
    "* Saturación de petróleo: distribución uniforme entre 0.1 y 0.4\n",
    "\n",
    "Estimemos la incerteza en OOIP siguiendo los siguientes pasos:\n",
    "\n",
    "\n",
    "1. Generar 10000 (diez mil) muestras de esas 3 variables y calcular otros tantos valores de OOIP usando la expresión de arriba.\n",
    "2. Calcular la media y el desvio estándar del OOIP.\n",
    "3. Verificar los valores mínimos y máximos ¿hay algún problema?\n",
    "4. Usando la función *clip* corregir los valores de porosidad y espesor fuera de rangos razonables.\n",
    "5. Recalcular la media y el desvio estándar \n",
    "6. Graficar el histograma.\n",
    "7. Graficar la probabilidad acumulada ¿Cuáles son los valores p10, p50 y p90?"
   ]
  },
  {
   "cell_type": "markdown",
   "id": "06004c8a",
   "metadata": {},
   "source": [
    "## Datos"
   ]
  },
  {
   "cell_type": "code",
   "execution_count": 2,
   "id": "edfd6e6f",
   "metadata": {},
   "outputs": [],
   "source": [
    "#imports siempre primero\n",
    "import numpy as np\n",
    "import matplotlib.pyplot as plt"
   ]
  },
  {
   "cell_type": "code",
   "execution_count": 3,
   "id": "63cf7fae",
   "metadata": {},
   "outputs": [],
   "source": [
    "gen=np.random.default_rng(seed=1)\n",
    "A=1000000.0\n",
    "Bo=1.0\n",
    "N=10000"
   ]
  },
  {
   "cell_type": "code",
   "execution_count": 4,
   "id": "783c4050",
   "metadata": {},
   "outputs": [],
   "source": [
    "#1\n",
    "#Porosidad\n",
    "\n",
    "#Espesor\n",
    "\n",
    "#Saturacion\n",
    "\n",
    "#OOIP=A*h*poro*So/Bo"
   ]
  },
  {
   "cell_type": "code",
   "execution_count": 5,
   "id": "cd423bcc",
   "metadata": {},
   "outputs": [],
   "source": [
    "#2\n"
   ]
  },
  {
   "cell_type": "code",
   "execution_count": 6,
   "id": "99f79caf",
   "metadata": {},
   "outputs": [],
   "source": [
    "#3\n"
   ]
  },
  {
   "cell_type": "code",
   "execution_count": 7,
   "id": "bdbb984c",
   "metadata": {},
   "outputs": [],
   "source": [
    "#4\n"
   ]
  },
  {
   "cell_type": "code",
   "execution_count": 8,
   "id": "576e02ec",
   "metadata": {},
   "outputs": [],
   "source": [
    "#5\n",
    "#OOIP=A*h*poro*So/Bo"
   ]
  },
  {
   "cell_type": "markdown",
   "id": "cca41898",
   "metadata": {},
   "source": [
    "## Gráficos con matplotlib"
   ]
  },
  {
   "cell_type": "code",
   "execution_count": 9,
   "id": "e3d590a2",
   "metadata": {},
   "outputs": [],
   "source": [
    "#histograma\n"
   ]
  },
  {
   "cell_type": "code",
   "execution_count": 10,
   "id": "ef5166cb",
   "metadata": {},
   "outputs": [],
   "source": [
    "# probabilidad acumulada en histograma"
   ]
  },
  {
   "cell_type": "code",
   "execution_count": 11,
   "id": "b60cf99f",
   "metadata": {},
   "outputs": [],
   "source": [
    "#5\n",
    "#hy donde el valor está por encima de 0.10 (p90 petrolero)\n"
   ]
  },
  {
   "cell_type": "code",
   "execution_count": 12,
   "id": "f466231b",
   "metadata": {},
   "outputs": [],
   "source": [
    "#hy donde el valor está por encima de 0.10 (p90 petrolero)\n"
   ]
  },
  {
   "cell_type": "code",
   "execution_count": 13,
   "id": "6d917024",
   "metadata": {},
   "outputs": [],
   "source": [
    "#hy donde el valor está por encima de 0.10 (p90 petrolero)\n"
   ]
  },
  {
   "cell_type": "code",
   "execution_count": null,
   "id": "7a82c1ac",
   "metadata": {},
   "outputs": [],
   "source": []
  },
  {
   "cell_type": "code",
   "execution_count": null,
   "id": "9f277706",
   "metadata": {},
   "outputs": [],
   "source": []
  }
 ],
 "metadata": {
  "kernelspec": {
   "display_name": "Python 3 (ipykernel)",
   "language": "python",
   "name": "python3"
  },
  "language_info": {
   "codemirror_mode": {
    "name": "ipython",
    "version": 3
   },
   "file_extension": ".py",
   "mimetype": "text/x-python",
   "name": "python",
   "nbconvert_exporter": "python",
   "pygments_lexer": "ipython3",
   "version": "3.10.10"
  }
 },
 "nbformat": 4,
 "nbformat_minor": 5
}
